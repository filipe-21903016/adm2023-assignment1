{
 "cells": [
  {
   "cell_type": "code",
   "execution_count": 3,
   "id": "9eb20c62-2672-438b-934a-e456edbae989",
   "metadata": {},
   "outputs": [],
   "source": [
    "import numpy as np"
   ]
  },
  {
   "cell_type": "code",
   "execution_count": 19,
   "id": "b62e50a5-724e-49c4-8974-e963f2477d2f",
   "metadata": {},
   "outputs": [],
   "source": [
    "x = np.array([[0, 1, 2, 3],[4, 5, 6, 7]])\n",
    "y = np.array([-1, 0.2, 0.9, 2.1])"
   ]
  },
  {
   "cell_type": "markdown",
   "id": "ad0c6f87-75a5-4203-9d86-138264456f6f",
   "metadata": {},
   "source": [
    "$\\alpha * x_1 + \\beta * x_2 + \\gamma$"
   ]
  },
  {
   "cell_type": "code",
   "execution_count": 27,
   "id": "090790b3-ebc1-4b19-b373-9d90d83b3b67",
   "metadata": {},
   "outputs": [],
   "source": [
    "a = np.vstack([x, np.ones(x.shape[1])]).T"
   ]
  },
  {
   "cell_type": "code",
   "execution_count": 28,
   "id": "5f0120fd-7055-4384-bc7c-8a489af07714",
   "metadata": {},
   "outputs": [
    {
     "data": {
      "text/plain": [
       "(1.1555555555555561, -0.1555555555555556, -0.32777777777777806)"
      ]
     },
     "execution_count": 28,
     "metadata": {},
     "output_type": "execute_result"
    }
   ],
   "source": [
    "alpha, beta, gamma = np.linalg.lstsq(a, y, rcond=None)[0]\n",
    "alpha, beta, gamma"
   ]
  }
 ],
 "metadata": {
  "kernelspec": {
   "display_name": "Python 3 (ipykernel)",
   "language": "python",
   "name": "python3"
  },
  "language_info": {
   "codemirror_mode": {
    "name": "ipython",
    "version": 3
   },
   "file_extension": ".py",
   "mimetype": "text/x-python",
   "name": "python",
   "nbconvert_exporter": "python",
   "pygments_lexer": "ipython3",
   "version": "3.11.4"
  }
 },
 "nbformat": 4,
 "nbformat_minor": 5
}
