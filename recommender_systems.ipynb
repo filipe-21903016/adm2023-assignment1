{
 "cells": [
  {
   "cell_type": "markdown",
   "id": "d12d3b94-0237-4d10-a8e4-8300262078f4",
   "metadata": {
    "tags": []
   },
   "source": [
    "# Recommender Systems"
   ]
  },
  {
   "cell_type": "code",
   "execution_count": 1,
   "id": "dde23472-3077-4e20-8f80-bb10e31a4ee1",
   "metadata": {},
   "outputs": [],
   "source": [
    "import pandas as pd\n",
    "import numpy as np\n",
    "import math\n",
    "from sklearn.preprocessing import OneHotEncoder, LabelEncoder, MultiLabelBinarizer\n",
    "from sklearn.metrics import mean_squared_error\n",
    "from sklearn.utils import shuffle\n",
    "import chardet\n",
    "from tqdm import tqdm\n",
    "\n",
    "np.random.seed(42)"
   ]
  },
  {
   "cell_type": "markdown",
   "id": "1c231150-0ce3-419a-8f86-a9a1f9cc5be0",
   "metadata": {
    "tags": []
   },
   "source": [
    "## Loading data"
   ]
  },
  {
   "cell_type": "markdown",
   "id": "c4a0dd82-388f-47e8-a9e3-34a76496e7e0",
   "metadata": {},
   "source": [
    "It appears that there is inconsistency in the text encoding used in various data files. As a result, we must verify the encoding to ensure accurate data reading from these files."
   ]
  },
  {
   "cell_type": "code",
   "execution_count": 2,
   "id": "8cd895ea-9558-4625-b348-753c6276ed2e",
   "metadata": {},
   "outputs": [],
   "source": [
    "def get_file_encoding(file_path):\n",
    "    \"\"\"\n",
    "    This function checks the text enconding used in a particular file\n",
    "    \n",
    "    :param file_path: The file path you wish to examine for its encoding\n",
    "    :return: String containing encoding type\n",
    "    \"\"\"\n",
    "    with open(file_path, 'rb') as f:\n",
    "        result = chardet.detect(f.read())\n",
    "        return result['encoding']"
   ]
  },
  {
   "cell_type": "code",
   "execution_count": 3,
   "id": "cf48e43c-ed09-4306-b8fd-acaf23c9bf34",
   "metadata": {},
   "outputs": [
    {
     "data": {
      "text/html": [
       "<div>\n",
       "<style scoped>\n",
       "    .dataframe tbody tr th:only-of-type {\n",
       "        vertical-align: middle;\n",
       "    }\n",
       "\n",
       "    .dataframe tbody tr th {\n",
       "        vertical-align: top;\n",
       "    }\n",
       "\n",
       "    .dataframe thead th {\n",
       "        text-align: right;\n",
       "    }\n",
       "</style>\n",
       "<table border=\"1\" class=\"dataframe\">\n",
       "  <thead>\n",
       "    <tr style=\"text-align: right;\">\n",
       "      <th></th>\n",
       "      <th>UserID</th>\n",
       "      <th>MovieID</th>\n",
       "      <th>Rating</th>\n",
       "      <th>Timestamp</th>\n",
       "    </tr>\n",
       "  </thead>\n",
       "  <tbody>\n",
       "    <tr>\n",
       "      <th>0</th>\n",
       "      <td>1</td>\n",
       "      <td>1193</td>\n",
       "      <td>5</td>\n",
       "      <td>978300760</td>\n",
       "    </tr>\n",
       "    <tr>\n",
       "      <th>1</th>\n",
       "      <td>1</td>\n",
       "      <td>661</td>\n",
       "      <td>3</td>\n",
       "      <td>978302109</td>\n",
       "    </tr>\n",
       "    <tr>\n",
       "      <th>2</th>\n",
       "      <td>1</td>\n",
       "      <td>914</td>\n",
       "      <td>3</td>\n",
       "      <td>978301968</td>\n",
       "    </tr>\n",
       "    <tr>\n",
       "      <th>3</th>\n",
       "      <td>1</td>\n",
       "      <td>3408</td>\n",
       "      <td>4</td>\n",
       "      <td>978300275</td>\n",
       "    </tr>\n",
       "    <tr>\n",
       "      <th>4</th>\n",
       "      <td>1</td>\n",
       "      <td>2355</td>\n",
       "      <td>5</td>\n",
       "      <td>978824291</td>\n",
       "    </tr>\n",
       "  </tbody>\n",
       "</table>\n",
       "</div>"
      ],
      "text/plain": [
       "   UserID  MovieID  Rating  Timestamp\n",
       "0       1     1193       5  978300760\n",
       "1       1      661       3  978302109\n",
       "2       1      914       3  978301968\n",
       "3       1     3408       4  978300275\n",
       "4       1     2355       5  978824291"
      ]
     },
     "execution_count": 3,
     "metadata": {},
     "output_type": "execute_result"
    }
   ],
   "source": [
    "# Loading ratings data\n",
    "ratings_path = \"./data/ratings.dat\"\n",
    "ratings = pd.read_csv(ratings_path, delimiter=\"::\", header=None, engine='python', encoding= get_file_encoding(ratings_path))\n",
    "ratings = ratings.rename(columns={0: \"UserID\", 1: \"MovieID\", 2: \"Rating\", 3:\"Timestamp\"})# Set ratings column names\n",
    "\n",
    "ratings.head()"
   ]
  },
  {
   "cell_type": "code",
   "execution_count": 4,
   "id": "961137de-33e8-4406-8382-557f1917216b",
   "metadata": {},
   "outputs": [
    {
     "data": {
      "text/html": [
       "<div>\n",
       "<style scoped>\n",
       "    .dataframe tbody tr th:only-of-type {\n",
       "        vertical-align: middle;\n",
       "    }\n",
       "\n",
       "    .dataframe tbody tr th {\n",
       "        vertical-align: top;\n",
       "    }\n",
       "\n",
       "    .dataframe thead th {\n",
       "        text-align: right;\n",
       "    }\n",
       "</style>\n",
       "<table border=\"1\" class=\"dataframe\">\n",
       "  <thead>\n",
       "    <tr style=\"text-align: right;\">\n",
       "      <th></th>\n",
       "      <th>MovieID</th>\n",
       "      <th>Title</th>\n",
       "      <th>Genres</th>\n",
       "    </tr>\n",
       "  </thead>\n",
       "  <tbody>\n",
       "    <tr>\n",
       "      <th>0</th>\n",
       "      <td>1</td>\n",
       "      <td>Toy Story (1995)</td>\n",
       "      <td>Animation|Children's|Comedy</td>\n",
       "    </tr>\n",
       "    <tr>\n",
       "      <th>1</th>\n",
       "      <td>2</td>\n",
       "      <td>Jumanji (1995)</td>\n",
       "      <td>Adventure|Children's|Fantasy</td>\n",
       "    </tr>\n",
       "    <tr>\n",
       "      <th>2</th>\n",
       "      <td>3</td>\n",
       "      <td>Grumpier Old Men (1995)</td>\n",
       "      <td>Comedy|Romance</td>\n",
       "    </tr>\n",
       "    <tr>\n",
       "      <th>3</th>\n",
       "      <td>4</td>\n",
       "      <td>Waiting to Exhale (1995)</td>\n",
       "      <td>Comedy|Drama</td>\n",
       "    </tr>\n",
       "    <tr>\n",
       "      <th>4</th>\n",
       "      <td>5</td>\n",
       "      <td>Father of the Bride Part II (1995)</td>\n",
       "      <td>Comedy</td>\n",
       "    </tr>\n",
       "  </tbody>\n",
       "</table>\n",
       "</div>"
      ],
      "text/plain": [
       "   MovieID                               Title                        Genres\n",
       "0        1                    Toy Story (1995)   Animation|Children's|Comedy\n",
       "1        2                      Jumanji (1995)  Adventure|Children's|Fantasy\n",
       "2        3             Grumpier Old Men (1995)                Comedy|Romance\n",
       "3        4            Waiting to Exhale (1995)                  Comedy|Drama\n",
       "4        5  Father of the Bride Part II (1995)                        Comedy"
      ]
     },
     "execution_count": 4,
     "metadata": {},
     "output_type": "execute_result"
    }
   ],
   "source": [
    "# Loading movies data\n",
    "movies_path = \"./data/movies.dat\"\n",
    "movies = pd.read_csv(movies_path, delimiter=\"::\", header=None, engine='python', encoding= get_file_encoding(movies_path))\n",
    "movies = movies.rename(columns={0: \"MovieID\", 1: \"Title\", 2: \"Genres\"})\n",
    "\n",
    "movies.head()"
   ]
  },
  {
   "cell_type": "code",
   "execution_count": 5,
   "id": "4760af66-ca6c-4ff8-af76-292c7d6ab212",
   "metadata": {},
   "outputs": [
    {
     "data": {
      "text/html": [
       "<div>\n",
       "<style scoped>\n",
       "    .dataframe tbody tr th:only-of-type {\n",
       "        vertical-align: middle;\n",
       "    }\n",
       "\n",
       "    .dataframe tbody tr th {\n",
       "        vertical-align: top;\n",
       "    }\n",
       "\n",
       "    .dataframe thead th {\n",
       "        text-align: right;\n",
       "    }\n",
       "</style>\n",
       "<table border=\"1\" class=\"dataframe\">\n",
       "  <thead>\n",
       "    <tr style=\"text-align: right;\">\n",
       "      <th></th>\n",
       "      <th>UserID</th>\n",
       "      <th>Gender</th>\n",
       "      <th>Age</th>\n",
       "      <th>Occupation</th>\n",
       "      <th>Zip-code</th>\n",
       "    </tr>\n",
       "  </thead>\n",
       "  <tbody>\n",
       "    <tr>\n",
       "      <th>0</th>\n",
       "      <td>1</td>\n",
       "      <td>F</td>\n",
       "      <td>1</td>\n",
       "      <td>10</td>\n",
       "      <td>48067</td>\n",
       "    </tr>\n",
       "    <tr>\n",
       "      <th>1</th>\n",
       "      <td>2</td>\n",
       "      <td>M</td>\n",
       "      <td>56</td>\n",
       "      <td>16</td>\n",
       "      <td>70072</td>\n",
       "    </tr>\n",
       "    <tr>\n",
       "      <th>2</th>\n",
       "      <td>3</td>\n",
       "      <td>M</td>\n",
       "      <td>25</td>\n",
       "      <td>15</td>\n",
       "      <td>55117</td>\n",
       "    </tr>\n",
       "    <tr>\n",
       "      <th>3</th>\n",
       "      <td>4</td>\n",
       "      <td>M</td>\n",
       "      <td>45</td>\n",
       "      <td>7</td>\n",
       "      <td>02460</td>\n",
       "    </tr>\n",
       "    <tr>\n",
       "      <th>4</th>\n",
       "      <td>5</td>\n",
       "      <td>M</td>\n",
       "      <td>25</td>\n",
       "      <td>20</td>\n",
       "      <td>55455</td>\n",
       "    </tr>\n",
       "  </tbody>\n",
       "</table>\n",
       "</div>"
      ],
      "text/plain": [
       "   UserID Gender  Age  Occupation Zip-code\n",
       "0       1      F    1          10    48067\n",
       "1       2      M   56          16    70072\n",
       "2       3      M   25          15    55117\n",
       "3       4      M   45           7    02460\n",
       "4       5      M   25          20    55455"
      ]
     },
     "execution_count": 5,
     "metadata": {},
     "output_type": "execute_result"
    }
   ],
   "source": [
    "# Loading users data\n",
    "users_path = \"./data/users.dat\"\n",
    "users = pd.read_csv(users_path, delimiter=\"::\", header=None, engine='python', encoding=get_file_encoding(users_path))\n",
    "users = users.rename(columns={0: \"UserID\", 1: \"Gender\", 2: \"Age\", 3: \"Occupation\", 4: \"Zip-code\"})\n",
    "\n",
    "users.head()"
   ]
  },
  {
   "cell_type": "markdown",
   "id": "42e93228-3137-4c8e-96e8-b4ea775065e7",
   "metadata": {},
   "source": [
    "## k-fold Cross Validation"
   ]
  },
  {
   "cell_type": "code",
   "execution_count": 6,
   "id": "9dfcbd65-6496-4609-bd6c-f3379d09207c",
   "metadata": {},
   "outputs": [],
   "source": [
    "def rsme(y_true, y_pred):\n",
    "    return math.sqrt(np.square(np.subtract(y_true, y_pred)).mean())"
   ]
  },
  {
   "cell_type": "code",
   "execution_count": 7,
   "id": "7ae05b1c-a7c9-4d24-bcd9-97898aa4d322",
   "metadata": {},
   "outputs": [],
   "source": [
    "def mae(y_true, y_pred):\n",
    "    return np.absolute(np.subtract(y_true, y_pred)).mean()"
   ]
  },
  {
   "cell_type": "code",
   "execution_count": 8,
   "id": "58b7b4c3-ac84-44ad-997d-39d6dcdef101",
   "metadata": {},
   "outputs": [],
   "source": [
    "def cross_validation(model, X, y, k = 5):\n",
    "    # Shuffle data\n",
    "    X, y = shuffle(X, y, random_state=42)\n",
    "    \n",
    "    # Split data\n",
    "    n = len(X)\n",
    "    X_folds = [X.iloc[(i - 1) * (n // k):i * (n // k),:] for i in range(1, k + 1)]\n",
    "    y_folds = [y.iloc[(i - 1) * (n // k):i * (n // k)] for i in range(1, k + 1)]\n",
    "    \n",
    "    # Initialize array to store RSME calculations\n",
    "    rmse_ = np.empty((0, 2), float)\n",
    "    mae_ = np.empty((0, 2), float)\n",
    "    \n",
    "    \n",
    "    for i, (X_test, y_test) in enumerate(zip(X_folds, y_folds)):\n",
    "        X_train = pd.concat([X for j, X in enumerate(X_folds) if i != j])\n",
    "        y_train = pd.concat([y for j, y in enumerate(y_folds) if i != j])\n",
    "        \n",
    "        # Train model\n",
    "        model.fit(X_train, y_train)\n",
    "        \n",
    "        # Evaluate on training and test set\n",
    "        y_train_pred = model.predict(X_train)\n",
    "        y_test_pred = model.predict(X_test)\n",
    "        \n",
    "        # Calculate errors\n",
    "        rmse_train = rsme(y_train, y_train_pred) \n",
    "        rmse_test = rsme(y_test, y_test_pred)\n",
    "        mae_train = mae(y_train, y_train_pred)\n",
    "        mae_test = mae(y_test, y_test_pred)\n",
    "        \n",
    "        rmse_ = np.append(rmse_, np.array([[rmse_train, rmse_test]]), axis = 0)\n",
    "        mae_ = np.append(mae_, np.array([[mae_train, mae_test]]), axis = 0)\n",
    "    \n",
    "    rmse_train_aver = rmse_[:, 0].mean()\n",
    "    rmse_test_aver = rmse_[:, 1].mean()\n",
    "    mae_train_aver = mae_[:, 0].mean()\n",
    "    mae_test_aver = mae_[:, 1].mean()\n",
    "    \n",
    "    return (rmse_train_aver, rmse_test_aver), (mae_train_aver, mae_test_aver)"
   ]
  },
  {
   "cell_type": "markdown",
   "id": "d39aaa56-f83b-4491-97ab-d8e53fd2c218",
   "metadata": {
    "tags": []
   },
   "source": [
    "## Naive Approaches"
   ]
  },
  {
   "cell_type": "code",
   "execution_count": 9,
   "id": "db040c2d-9891-4995-bd8d-4ebacb6e4fbb",
   "metadata": {},
   "outputs": [],
   "source": [
    "class NaiveApproach:\n",
    "    def __init__(self, fit = lambda *args: None, predict = lambda *args: None):\n",
    "        self.predict = predict\n",
    "        self.fit = fit"
   ]
  },
  {
   "cell_type": "code",
   "execution_count": 10,
   "id": "f5cdebfa-437a-48df-869c-100463a0a4ca",
   "metadata": {},
   "outputs": [],
   "source": [
    "X = ratings[['UserID', 'MovieID']]\n",
    "y = ratings['Rating']"
   ]
  },
  {
   "cell_type": "markdown",
   "id": "2dfdc702-b0f3-4770-80cc-e4728e92400c",
   "metadata": {
    "tags": []
   },
   "source": [
    "### Global average rating\n",
    "\n",
    "$$\n",
    "R_{global}(User, Item)=mean(\\text{all ratings})\n",
    "$$"
   ]
  },
  {
   "cell_type": "code",
   "execution_count": 11,
   "id": "0ada7e54-f2ff-431b-8e7e-497ba7bfb9da",
   "metadata": {},
   "outputs": [
    {
     "data": {
      "text/plain": [
       "3.581564453029317"
      ]
     },
     "execution_count": 11,
     "metadata": {},
     "output_type": "execute_result"
    }
   ],
   "source": [
    "r_global = ratings['Rating'].mean()\n",
    "r_global"
   ]
  },
  {
   "cell_type": "code",
   "execution_count": 12,
   "id": "a2d320ac-5e8e-4d7e-a827-5f8c5575665c",
   "metadata": {},
   "outputs": [
    {
     "name": "stdout",
     "output_type": "stream",
     "text": [
      "RSME: 1.117\n",
      "MAE: 0.934\n"
     ]
    }
   ],
   "source": [
    "# Cross validation\n",
    "global_average_rating_model = NaiveApproach(predict=lambda *args: r_global)\n",
    "(_, rmse_test) , (_, mae_test) = cross_validation(global_average_rating_model, X, y)\n",
    "\n",
    "print(f'RSME: {round(rmse_test, 3)}\\nMAE: {round(mae_test, 3)}')"
   ]
  },
  {
   "cell_type": "markdown",
   "id": "ae39e2d7-5723-4819-a49f-971aee6ae75f",
   "metadata": {
    "tags": []
   },
   "source": [
    "### Average rating per Item\n",
    "\n",
    "$$\n",
    "R_{item}(User, Item)=mean(\\text{all ratings for Item})\n",
    "$$"
   ]
  },
  {
   "cell_type": "code",
   "execution_count": 13,
   "id": "c7479f93-dcb8-42bd-bebf-8371082def9f",
   "metadata": {},
   "outputs": [],
   "source": [
    "def r_item(item):\n",
    "    ratings_item = ratings[(ratings['MovieID'] == item)]\n",
    "    return ratings_item['Rating'].mean() if len(ratings_item) > 0 else r_global"
   ]
  },
  {
   "cell_type": "code",
   "execution_count": 14,
   "id": "e8cc7a7c-5345-4532-bf50-1307972c4920",
   "metadata": {},
   "outputs": [],
   "source": [
    "# Compute average rates of all items\n",
    "R_i = {}\n",
    "\n",
    "for movieID in ratings['MovieID'].unique():\n",
    "    R_i[movieID] = r_item(movieID)"
   ]
  },
  {
   "cell_type": "code",
   "execution_count": 15,
   "id": "36aa608b-34c6-4514-a51b-4ef756b02dd9",
   "metadata": {},
   "outputs": [
    {
     "name": "stdout",
     "output_type": "stream",
     "text": [
      "RSME: 0.975\n",
      "MAE: 0.779\n"
     ]
    }
   ],
   "source": [
    "# Cross validation\n",
    "average_rating_item_model = NaiveApproach(predict=lambda X: X['MovieID'].apply(lambda x: R_i[x]))\n",
    "(_, rmse_test) , (_, mae_test) = cross_validation(average_rating_item_model, X, y)\n",
    "\n",
    "print(f'RSME: {round(rmse_test, 3)}\\nMAE: {round(mae_test, 3)}')"
   ]
  },
  {
   "cell_type": "markdown",
   "id": "e245114d-71cd-4ae7-827e-a558a0ad51d3",
   "metadata": {
    "tags": []
   },
   "source": [
    "### Average rating per User\n",
    "\n",
    "$$\n",
    "R_{User}(User, Item)=mean(\\text{all ratings for User})\n",
    "$$"
   ]
  },
  {
   "cell_type": "code",
   "execution_count": 16,
   "id": "e886ebdb-020e-44b1-92e4-384bf6ccba95",
   "metadata": {},
   "outputs": [],
   "source": [
    "def r_user(user):\n",
    "    ratings_user = ratings[(ratings['UserID'] == user)]\n",
    "    return ratings_user['Rating'].mean() if len(ratings_user) > 0 else r_global"
   ]
  },
  {
   "cell_type": "code",
   "execution_count": 17,
   "id": "0c63a329-68ca-47f7-973a-8c3f9bb8faa6",
   "metadata": {},
   "outputs": [],
   "source": [
    "# Compute average rates of all users\n",
    "R_u = {}\n",
    "\n",
    "for userID in ratings['UserID'].unique():\n",
    "    R_u[userID] = r_user(userID)"
   ]
  },
  {
   "cell_type": "code",
   "execution_count": 18,
   "id": "1d7fbdda-bc4b-4cd1-8afc-a339ddfec7ac",
   "metadata": {},
   "outputs": [
    {
     "name": "stdout",
     "output_type": "stream",
     "text": [
      "RSME: 1.028\n",
      "MAE: 0.823\n"
     ]
    }
   ],
   "source": [
    "# Cross validation\n",
    "average_rating_user_model = NaiveApproach(predict=lambda X: X['UserID'].apply(lambda x: R_u[x]))\n",
    "(_, rmse_test) , (_, mae_test) = cross_validation(average_rating_user_model, X, y)\n",
    "\n",
    "print(f'RSME: {round(rmse_test, 3)}\\nMAE: {round(mae_test, 3)}')"
   ]
  },
  {
   "cell_type": "markdown",
   "id": "f6ee43a3-2cd1-4a00-ae18-2a79d6ab5daf",
   "metadata": {
    "tags": []
   },
   "source": [
    "### Optimal Linear Combination of 2 averages\n",
    "\n",
    "$$\n",
    "R_{user-item}(User, Item) = \\alpha * R_{user}(User, Item) + \\beta * R_{item}(User, Item) + \\gamma\n",
    "$$"
   ]
  },
  {
   "cell_type": "code",
   "execution_count": 19,
   "id": "311f5048-30fe-4f2b-b19b-e639c44082e9",
   "metadata": {
    "tags": []
   },
   "outputs": [],
   "source": [
    "class LinearCombination:\n",
    "    def fit(self, X, y):\n",
    "        y = y.to_numpy()\n",
    "        \n",
    "        X_u = X['UserID'].apply(lambda x: R_u[x]).to_numpy()\n",
    "        X_i = X['MovieID'].apply(lambda x: R_i[x]).to_numpy()\n",
    "        X = np.vstack([X_u, X_i])\n",
    "        \n",
    "        A = np.vstack([X, np.ones(X.shape[1])]).T\n",
    "        self.alpha, self.beta, self.gamma = np.linalg.lstsq(A, y, rcond=None)[0]\n",
    "    \n",
    "    def formula(self, r_u, r_i):\n",
    "        return \n",
    "    \n",
    "    def predict(self, X):\n",
    "        r_u = X['UserID'].apply(lambda x: R_u[x])\n",
    "        r_i = X['MovieID'].apply(lambda x: R_i[x])\n",
    "        \n",
    "        return self.alpha * r_u + self.beta * r_i + self.gamma"
   ]
  },
  {
   "cell_type": "code",
   "execution_count": 20,
   "id": "ad7089ba-9612-4658-af44-5494d5512fdc",
   "metadata": {},
   "outputs": [
    {
     "name": "stdout",
     "output_type": "stream",
     "text": [
      "RSME: 0.916\n",
      "MAE: 0.726\n"
     ]
    }
   ],
   "source": [
    "# Cross validation\n",
    "linear_combination_model = LinearCombination()\n",
    "(_, rmse_test) , (_, mae_test) = cross_validation(linear_combination_model, X, y)\n",
    "\n",
    "print(f'RSME: {round(rmse_test, 3)}\\nMAE: {round(mae_test, 3)}')"
   ]
  },
  {
   "cell_type": "markdown",
   "id": "5d9d9783-c460-4d41-ab05-b5746b2d55f7",
   "metadata": {},
   "source": [
    "## UV Decomposition"
   ]
  },
  {
   "cell_type": "code",
   "execution_count": 21,
   "id": "ebe9b932-3481-4ade-ab93-45b0117bbc03",
   "metadata": {},
   "outputs": [],
   "source": [
    "class roundrobin:\n",
    "    def __init__(self, U, V):\n",
    "        self.U = U\n",
    "        self.V = V\n",
    "        \n",
    "        self.maxrows1, self.maxcols1 = U.shape[0], U.shape[1]\n",
    "        self.maxrows2, self.maxcols2 = V.shape[0], V.shape[1]\n",
    "        \n",
    "        \n",
    "    def __iter__(self):\n",
    "        self.iterU = True\n",
    "        self.row1 = self.col1 = 0\n",
    "        self.row2 = self.col2 = 0\n",
    "        return self\n",
    "\n",
    "    def __next__(self):\n",
    "        if self.iterU:\n",
    "            if self.row1 > self.maxrows1 - 1:\n",
    "                self.row1 = 0\n",
    "                self.col1 += 1\n",
    "                if self.col1 > self.maxcols1 - 1:\n",
    "                    raise StopIteration\n",
    "\n",
    "            next_ = (self.iterU, self.row1, self.col1)\n",
    "            self.iterU = False\n",
    "            self.row1 += 1\n",
    "            return next_\n",
    "        else:    \n",
    "            if self.row2 > self.maxrows2 - 1:\n",
    "                self.row2 = 0\n",
    "                self.col2 += 1\n",
    "                if self.col2 > self.maxcols2 - 1:\n",
    "                    raise StopIteration\n",
    "\n",
    "            next_ = (self.iterU, self.row2, self.col2)\n",
    "            self.iterU = True\n",
    "            self.row2 += 1\n",
    "            return next_"
   ]
  },
  {
   "cell_type": "markdown",
   "id": "d228c5a2-d48d-4654-b962-79e92a9e4ed2",
   "metadata": {},
   "source": [
    "### Preprocessing"
   ]
  },
  {
   "cell_type": "code",
   "execution_count": 22,
   "id": "f82957e3-6cda-4ef0-90ce-41f303ab5e7b",
   "metadata": {},
   "outputs": [],
   "source": [
    "# n Users\n",
    "unique_users = ratings['UserID'].unique()\n",
    "n = len(unique_users)\n",
    "\n",
    "# m Items\n",
    "unique_items = ratings['MovieID'].unique()\n",
    "m = len(unique_items)\n",
    "\n",
    "# Initialize utility matrix\n",
    "M = np.full((n,m), np.nan)"
   ]
  },
  {
   "cell_type": "code",
   "execution_count": 23,
   "id": "6f38b44d-28a1-4989-8fe4-a8fabf66728c",
   "metadata": {},
   "outputs": [],
   "source": [
    "# Map ids to index & vice-versa\n",
    "user_to_index = {user_id: idx for idx, user_id in enumerate(unique_users)}\n",
    "index_to_user = {idx: user_id for idx, user_id in enumerate(unique_users)}\n",
    "\n",
    "item_to_index = {item_id: idx for idx, item_id in enumerate(unique_items)}\n",
    "index_to_item = {idx: item_id for idx, item_id in enumerate(unique_items)}"
   ]
  },
  {
   "cell_type": "code",
   "execution_count": 24,
   "id": "c0974467-3d7b-438c-aaca-e383c4b6eb9b",
   "metadata": {},
   "outputs": [],
   "source": [
    "# Populate matrix M\n",
    "for _, row in ratings.iterrows():\n",
    "    user_id = row['UserID']\n",
    "    item_id = row['MovieID']\n",
    "    \n",
    "    norm = (R_u[user_id] + R_i[item_id]) / 2\n",
    "    \n",
    "    M[user_to_index[user_id], item_to_index[item_id]] = row['Rating'] - norm"
   ]
  },
  {
   "cell_type": "code",
   "execution_count": 25,
   "id": "22becf43-3d42-4b12-be66-830d866f4840",
   "metadata": {},
   "outputs": [],
   "source": [
    "# Define loss function\n",
    "def rmse_2d(M, M_pred):\n",
    "    mask = ~np.isnan(M)\n",
    "    return math.sqrt(np.mean(np.square(M - M_pred), where=~np.isnan(M)))"
   ]
  },
  {
   "cell_type": "markdown",
   "id": "81239a13-ecda-41bf-8e39-da91a4577d7a",
   "metadata": {},
   "source": [
    "### Initialization"
   ]
  },
  {
   "cell_type": "code",
   "execution_count": 26,
   "id": "98a6216e-1ddc-4c55-8c5c-ffd98b8643ce",
   "metadata": {},
   "outputs": [],
   "source": [
    "# Length of short sizes of U & V\n",
    "d = 10\n",
    "\n",
    "# Mean of non-blank values in M\n",
    "a = np.mean(M, where=~np.isnan(M))\n",
    "\n",
    "initial_value = math.sqrt(a/d)\n",
    "\n",
    "U = np.full((n, d), initial_value)\n",
    "V = np.full((d, m), initial_value)"
   ]
  },
  {
   "cell_type": "markdown",
   "id": "f08cd06f-88f0-410c-87b2-63ec1c748490",
   "metadata": {},
   "source": [
    "### Performing the Optimization"
   ]
  },
  {
   "cell_type": "markdown",
   "id": "59b3c473-f2b2-4916-9e23-62669baa1112",
   "metadata": {
    "jp-MarkdownHeadingCollapsed": true,
    "tags": []
   },
   "source": [
    "#### Optimizing elements of U\n",
    "$$\n",
    "x = \\frac{\\sum_{j} v_{sj}(m_{rj} - \\sum_{k \\neq s} u_{rk}v_{kj})}{\\sum_{j} v^{2}_{sj}}\n",
    "$$\n"
   ]
  },
  {
   "cell_type": "code",
   "execution_count": 27,
   "id": "71dba499-e7a5-4751-ae3d-935bbf7855d4",
   "metadata": {},
   "outputs": [],
   "source": [
    "def optimize_x(M, U, V, r, s):\n",
    "    urk = np.delete(U[r, :], s, axis=0)\n",
    "    vkj = np.delete(V, s, axis=0)\n",
    "\n",
    "    vsj = V[s, :]\n",
    "\n",
    "    numerator = vsj * (M[r, :] - np.dot(urk.reshape(-1,1).T, vkj))\n",
    "    numerator = np.sum(numerator, where=~np.isnan(numerator))\n",
    "\n",
    "    denominator = np.square(vsj)\n",
    "    denominator = np.sum(denominator)\n",
    "\n",
    "    return numerator / denominator"
   ]
  },
  {
   "cell_type": "markdown",
   "id": "cebe4e94-fad9-4b45-ad08-99892cc7fe9f",
   "metadata": {
    "jp-MarkdownHeadingCollapsed": true,
    "tags": []
   },
   "source": [
    "#### Optimizing elements of V\n",
    "$$\n",
    "y = \\frac{\\sum_{i} u_{ir}(m_{is} - \\sum_{k \\neq r} u_{ik}v_{ks})}{\\sum_{i} u^{2}_{ir}}\n",
    "$$"
   ]
  },
  {
   "cell_type": "code",
   "execution_count": 28,
   "id": "3d4d5c59-5809-4eb6-ad16-beb71853f234",
   "metadata": {},
   "outputs": [],
   "source": [
    "def optimize_y(M, U, V, r, s):   \n",
    "    uik = np.delete(U, r, axis=1)\n",
    "    vks = np.delete(V[:,s], r, axis=0)\n",
    "    \n",
    "    uir = U[:,r]\n",
    "   \n",
    "    numerator = uir * (M[:,s] - np.dot(uik, vks))\n",
    "    numerator = np.sum(numerator, where=~np.isnan(numerator))\n",
    "\n",
    "    denominator = np.square(uir)\n",
    "    denominator = np.sum(denominator, where=~np.isnan(denominator))\n",
    "\n",
    "    return numerator / denominator"
   ]
  },
  {
   "cell_type": "markdown",
   "id": "63250f7b-da3e-4d23-900f-6c7d92b925f2",
   "metadata": {},
   "source": [
    "#### Optimizing decompositions U and V"
   ]
  },
  {
   "cell_type": "code",
   "execution_count": 29,
   "id": "5d10a4e6-0af2-496d-b79a-d1e603e08457",
   "metadata": {},
   "outputs": [
    {
     "name": "stdout",
     "output_type": "stream",
     "text": [
      "Initial RMSE: 0.9515933193173758\n"
     ]
    }
   ],
   "source": [
    "UV = np.dot(U, V)\n",
    "print(f'Initial RMSE: {rmse_2d(M, UV)}')"
   ]
  },
  {
   "cell_type": "code",
   "execution_count": 30,
   "id": "ceb85afb-40dd-4649-8595-5da915ccf908",
   "metadata": {},
   "outputs": [
    {
     "name": "stderr",
     "output_type": "stream",
     "text": [
      "  7%|██▉                                         | 1/15 [00:14<03:16, 14.05s/it]"
     ]
    },
    {
     "name": "stdout",
     "output_type": "stream",
     "text": [
      "RMSE: 0.914\n"
     ]
    },
    {
     "name": "stderr",
     "output_type": "stream",
     "text": [
      " 13%|█████▊                                      | 2/15 [00:26<02:53, 13.32s/it]"
     ]
    },
    {
     "name": "stdout",
     "output_type": "stream",
     "text": [
      "RMSE: 0.903\n"
     ]
    },
    {
     "name": "stderr",
     "output_type": "stream",
     "text": [
      " 20%|████████▊                                   | 3/15 [00:40<02:39, 13.33s/it]"
     ]
    },
    {
     "name": "stdout",
     "output_type": "stream",
     "text": [
      "RMSE: 0.9\n"
     ]
    },
    {
     "name": "stderr",
     "output_type": "stream",
     "text": [
      " 27%|███████████▋                                | 4/15 [00:52<02:22, 12.98s/it]"
     ]
    },
    {
     "name": "stdout",
     "output_type": "stream",
     "text": [
      "RMSE: 0.898\n"
     ]
    },
    {
     "name": "stderr",
     "output_type": "stream",
     "text": [
      " 33%|██████████████▋                             | 5/15 [01:04<02:05, 12.56s/it]"
     ]
    },
    {
     "name": "stdout",
     "output_type": "stream",
     "text": [
      "RMSE: 0.897\n"
     ]
    },
    {
     "name": "stderr",
     "output_type": "stream",
     "text": [
      " 40%|█████████████████▌                          | 6/15 [01:18<01:56, 12.94s/it]"
     ]
    },
    {
     "name": "stdout",
     "output_type": "stream",
     "text": [
      "RMSE: 0.895\n"
     ]
    },
    {
     "name": "stderr",
     "output_type": "stream",
     "text": [
      " 47%|████████████████████▌                       | 7/15 [01:33<01:49, 13.75s/it]"
     ]
    },
    {
     "name": "stdout",
     "output_type": "stream",
     "text": [
      "RMSE: 0.894\n"
     ]
    },
    {
     "name": "stderr",
     "output_type": "stream",
     "text": [
      " 53%|███████████████████████▍                    | 8/15 [01:47<01:35, 13.68s/it]"
     ]
    },
    {
     "name": "stdout",
     "output_type": "stream",
     "text": [
      "RMSE: 0.893\n"
     ]
    },
    {
     "name": "stderr",
     "output_type": "stream",
     "text": [
      " 60%|██████████████████████████▍                 | 9/15 [02:00<01:21, 13.54s/it]"
     ]
    },
    {
     "name": "stdout",
     "output_type": "stream",
     "text": [
      "RMSE: 0.892\n"
     ]
    },
    {
     "name": "stderr",
     "output_type": "stream",
     "text": [
      " 67%|████████████████████████████▋              | 10/15 [02:12<01:05, 13.20s/it]"
     ]
    },
    {
     "name": "stdout",
     "output_type": "stream",
     "text": [
      "RMSE: 0.892\n"
     ]
    },
    {
     "name": "stderr",
     "output_type": "stream",
     "text": [
      " 73%|███████████████████████████████▌           | 11/15 [02:25<00:52, 13.07s/it]"
     ]
    },
    {
     "name": "stdout",
     "output_type": "stream",
     "text": [
      "RMSE: 0.891\n"
     ]
    },
    {
     "name": "stderr",
     "output_type": "stream",
     "text": [
      " 80%|██████████████████████████████████▍        | 12/15 [02:39<00:39, 13.21s/it]"
     ]
    },
    {
     "name": "stdout",
     "output_type": "stream",
     "text": [
      "RMSE: 0.891\n"
     ]
    },
    {
     "name": "stderr",
     "output_type": "stream",
     "text": [
      " 87%|█████████████████████████████████████▎     | 13/15 [02:51<00:26, 13.19s/it]"
     ]
    },
    {
     "name": "stdout",
     "output_type": "stream",
     "text": [
      "RMSE: 0.891\n"
     ]
    },
    {
     "name": "stderr",
     "output_type": "stream",
     "text": [
      "\n"
     ]
    }
   ],
   "source": [
    "same_err = 0\n",
    "last_err = float('inf')\n",
    "for _ in tqdm(range(15)):\n",
    "    # Stop if error doesn't improve for 3 epochs\n",
    "    if same_err >= 3:\n",
    "      break\n",
    "\n",
    "    # Training\n",
    "    for isU, r, s in roundrobin(U, V):\n",
    "        if isU:\n",
    "            U[r,s] = optimize_x(M, U, V, r, s)\n",
    "        else:\n",
    "            V[r,s] = optimize_y(M, U, V, r, s)\n",
    "    \n",
    "    # Monitoring\n",
    "    UV = np.dot(U, V)\n",
    "    err = round(rmse_2d(M, UV),3)\n",
    "    if err == last_err:\n",
    "      same_err += 1\n",
    "    last_err = err\n",
    "\n",
    "    print(f'RMSE: {err}')"
   ]
  },
  {
   "cell_type": "code",
   "execution_count": 31,
   "id": "44103781-e324-4fe2-b69b-e3e03747752a",
   "metadata": {},
   "outputs": [
    {
     "name": "stdout",
     "output_type": "stream",
     "text": [
      "Optimized RMSE: 0.8910636397215524\n"
     ]
    }
   ],
   "source": [
    "UV = np.dot(U, V)\n",
    "print(f'Optimized RMSE: {rmse_2d(M, UV)}')"
   ]
  },
  {
   "cell_type": "code",
   "execution_count": 39,
   "id": "c7f801f8-ca2f-45c8-8268-b9bfded0aa52",
   "metadata": {},
   "outputs": [
    {
     "name": "stdout",
     "output_type": "stream",
     "text": [
      "RSME: 0.891\n",
      "MAE: 0.708\n"
     ]
    }
   ],
   "source": [
    "# Cross validation\n",
    "def decomp_predict(X_test):\n",
    "    y_pred = []\n",
    "    for _, x in X_test.iterrows():\n",
    "        user_id = x['UserID']\n",
    "        item_id = x['MovieID']\n",
    "        norm = (R_u[user_id] + R_i[item_id]) / 2\n",
    "        y_pred.append(UV[user_to_index[user_id], item_to_index[item_id]] + norm)\n",
    "        \n",
    "    return y_pred\n",
    "    \n",
    "uv_decomposition_model = NaiveApproach(predict=decomp_predict)\n",
    "(_, rmse_test) , (_, mae_test) = cross_validation(uv_decomposition_model, X, y)\n",
    "\n",
    "print(f'RSME: {round(rmse_test, 3)}\\nMAE: {round(mae_test, 3)}')"
   ]
  }
 ],
 "metadata": {
  "kernelspec": {
   "display_name": "Python 3 (ipykernel)",
   "language": "python",
   "name": "python3"
  },
  "language_info": {
   "codemirror_mode": {
    "name": "ipython",
    "version": 3
   },
   "file_extension": ".py",
   "mimetype": "text/x-python",
   "name": "python",
   "nbconvert_exporter": "python",
   "pygments_lexer": "ipython3",
   "version": "3.11.4"
  },
  "toc-autonumbering": true,
  "toc-showtags": false
 },
 "nbformat": 4,
 "nbformat_minor": 5
}
