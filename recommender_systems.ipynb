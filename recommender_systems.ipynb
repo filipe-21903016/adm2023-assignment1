{
 "cells": [
  {
   "cell_type": "markdown",
   "id": "d12d3b94-0237-4d10-a8e4-8300262078f4",
   "metadata": {
    "tags": []
   },
   "source": [
    "# Recommender Systems"
   ]
  },
  {
   "cell_type": "code",
   "execution_count": 1,
   "id": "dde23472-3077-4e20-8f80-bb10e31a4ee1",
   "metadata": {},
   "outputs": [],
   "source": [
    "import pandas as pd\n",
    "import numpy as np\n",
    "from sklearn.preprocessing import OneHotEncoder, LabelEncoder, MultiLabelBinarizer\n",
    "from sklearn.metrics import mean_squared_error\n",
    "import chardet"
   ]
  },
  {
   "cell_type": "markdown",
   "id": "1c231150-0ce3-419a-8f86-a9a1f9cc5be0",
   "metadata": {
    "tags": []
   },
   "source": [
    "## Loading data"
   ]
  },
  {
   "cell_type": "markdown",
   "id": "c4a0dd82-388f-47e8-a9e3-34a76496e7e0",
   "metadata": {},
   "source": [
    "It appears that there is inconsistency in the text encoding used in various data files. As a result, we must verify the encoding to ensure accurate data reading from these files."
   ]
  },
  {
   "cell_type": "code",
   "execution_count": 2,
   "id": "8cd895ea-9558-4625-b348-753c6276ed2e",
   "metadata": {},
   "outputs": [],
   "source": [
    "def get_file_encoding(file_path):\n",
    "    \"\"\"\n",
    "    This function checks the text enconding used in a particular file\n",
    "    \n",
    "    :param file_path: The file path you wish to examine for its encoding\n",
    "    :return: String containing encoding type\n",
    "    \"\"\"\n",
    "    with open(file_path, 'rb') as f:\n",
    "        result = chardet.detect(f.read())\n",
    "        return result['encoding']"
   ]
  },
  {
   "cell_type": "code",
   "execution_count": 3,
   "id": "cf48e43c-ed09-4306-b8fd-acaf23c9bf34",
   "metadata": {},
   "outputs": [
    {
     "data": {
      "text/html": [
       "<div>\n",
       "<style scoped>\n",
       "    .dataframe tbody tr th:only-of-type {\n",
       "        vertical-align: middle;\n",
       "    }\n",
       "\n",
       "    .dataframe tbody tr th {\n",
       "        vertical-align: top;\n",
       "    }\n",
       "\n",
       "    .dataframe thead th {\n",
       "        text-align: right;\n",
       "    }\n",
       "</style>\n",
       "<table border=\"1\" class=\"dataframe\">\n",
       "  <thead>\n",
       "    <tr style=\"text-align: right;\">\n",
       "      <th></th>\n",
       "      <th>UserID</th>\n",
       "      <th>MovieID</th>\n",
       "      <th>Rating</th>\n",
       "      <th>Timestamp</th>\n",
       "    </tr>\n",
       "  </thead>\n",
       "  <tbody>\n",
       "    <tr>\n",
       "      <th>0</th>\n",
       "      <td>1</td>\n",
       "      <td>1193</td>\n",
       "      <td>5</td>\n",
       "      <td>978300760</td>\n",
       "    </tr>\n",
       "    <tr>\n",
       "      <th>1</th>\n",
       "      <td>1</td>\n",
       "      <td>661</td>\n",
       "      <td>3</td>\n",
       "      <td>978302109</td>\n",
       "    </tr>\n",
       "    <tr>\n",
       "      <th>2</th>\n",
       "      <td>1</td>\n",
       "      <td>914</td>\n",
       "      <td>3</td>\n",
       "      <td>978301968</td>\n",
       "    </tr>\n",
       "    <tr>\n",
       "      <th>3</th>\n",
       "      <td>1</td>\n",
       "      <td>3408</td>\n",
       "      <td>4</td>\n",
       "      <td>978300275</td>\n",
       "    </tr>\n",
       "    <tr>\n",
       "      <th>4</th>\n",
       "      <td>1</td>\n",
       "      <td>2355</td>\n",
       "      <td>5</td>\n",
       "      <td>978824291</td>\n",
       "    </tr>\n",
       "  </tbody>\n",
       "</table>\n",
       "</div>"
      ],
      "text/plain": [
       "   UserID  MovieID  Rating  Timestamp\n",
       "0       1     1193       5  978300760\n",
       "1       1      661       3  978302109\n",
       "2       1      914       3  978301968\n",
       "3       1     3408       4  978300275\n",
       "4       1     2355       5  978824291"
      ]
     },
     "execution_count": 3,
     "metadata": {},
     "output_type": "execute_result"
    }
   ],
   "source": [
    "# Loading ratings data\n",
    "ratings_path = \"./data/ratings.dat\"\n",
    "ratings = pd.read_csv(ratings_path, delimiter=\"::\", header=None, engine='python', encoding= get_file_encoding(ratings_path))\n",
    "ratings = ratings.rename(columns={0: \"UserID\", 1: \"MovieID\", 2: \"Rating\", 3:\"Timestamp\"})# Set ratings column names\n",
    "\n",
    "ratings.head()"
   ]
  },
  {
   "cell_type": "code",
   "execution_count": 4,
   "id": "961137de-33e8-4406-8382-557f1917216b",
   "metadata": {},
   "outputs": [
    {
     "data": {
      "text/html": [
       "<div>\n",
       "<style scoped>\n",
       "    .dataframe tbody tr th:only-of-type {\n",
       "        vertical-align: middle;\n",
       "    }\n",
       "\n",
       "    .dataframe tbody tr th {\n",
       "        vertical-align: top;\n",
       "    }\n",
       "\n",
       "    .dataframe thead th {\n",
       "        text-align: right;\n",
       "    }\n",
       "</style>\n",
       "<table border=\"1\" class=\"dataframe\">\n",
       "  <thead>\n",
       "    <tr style=\"text-align: right;\">\n",
       "      <th></th>\n",
       "      <th>MovieID</th>\n",
       "      <th>Title</th>\n",
       "      <th>Genres</th>\n",
       "    </tr>\n",
       "  </thead>\n",
       "  <tbody>\n",
       "    <tr>\n",
       "      <th>0</th>\n",
       "      <td>1</td>\n",
       "      <td>Toy Story (1995)</td>\n",
       "      <td>Animation|Children's|Comedy</td>\n",
       "    </tr>\n",
       "    <tr>\n",
       "      <th>1</th>\n",
       "      <td>2</td>\n",
       "      <td>Jumanji (1995)</td>\n",
       "      <td>Adventure|Children's|Fantasy</td>\n",
       "    </tr>\n",
       "    <tr>\n",
       "      <th>2</th>\n",
       "      <td>3</td>\n",
       "      <td>Grumpier Old Men (1995)</td>\n",
       "      <td>Comedy|Romance</td>\n",
       "    </tr>\n",
       "    <tr>\n",
       "      <th>3</th>\n",
       "      <td>4</td>\n",
       "      <td>Waiting to Exhale (1995)</td>\n",
       "      <td>Comedy|Drama</td>\n",
       "    </tr>\n",
       "    <tr>\n",
       "      <th>4</th>\n",
       "      <td>5</td>\n",
       "      <td>Father of the Bride Part II (1995)</td>\n",
       "      <td>Comedy</td>\n",
       "    </tr>\n",
       "  </tbody>\n",
       "</table>\n",
       "</div>"
      ],
      "text/plain": [
       "   MovieID                               Title                        Genres\n",
       "0        1                    Toy Story (1995)   Animation|Children's|Comedy\n",
       "1        2                      Jumanji (1995)  Adventure|Children's|Fantasy\n",
       "2        3             Grumpier Old Men (1995)                Comedy|Romance\n",
       "3        4            Waiting to Exhale (1995)                  Comedy|Drama\n",
       "4        5  Father of the Bride Part II (1995)                        Comedy"
      ]
     },
     "execution_count": 4,
     "metadata": {},
     "output_type": "execute_result"
    }
   ],
   "source": [
    "# Loading movies data\n",
    "movies_path = \"./data/movies.dat\"\n",
    "movies = pd.read_csv(movies_path, delimiter=\"::\", header=None, engine='python', encoding= get_file_encoding(movies_path))\n",
    "movies = movies.rename(columns={0: \"MovieID\", 1: \"Title\", 2: \"Genres\"})\n",
    "\n",
    "movies.head()"
   ]
  },
  {
   "cell_type": "code",
   "execution_count": 5,
   "id": "4760af66-ca6c-4ff8-af76-292c7d6ab212",
   "metadata": {},
   "outputs": [
    {
     "data": {
      "text/html": [
       "<div>\n",
       "<style scoped>\n",
       "    .dataframe tbody tr th:only-of-type {\n",
       "        vertical-align: middle;\n",
       "    }\n",
       "\n",
       "    .dataframe tbody tr th {\n",
       "        vertical-align: top;\n",
       "    }\n",
       "\n",
       "    .dataframe thead th {\n",
       "        text-align: right;\n",
       "    }\n",
       "</style>\n",
       "<table border=\"1\" class=\"dataframe\">\n",
       "  <thead>\n",
       "    <tr style=\"text-align: right;\">\n",
       "      <th></th>\n",
       "      <th>UserID</th>\n",
       "      <th>Gender</th>\n",
       "      <th>Age</th>\n",
       "      <th>Occupation</th>\n",
       "      <th>Zip-code</th>\n",
       "    </tr>\n",
       "  </thead>\n",
       "  <tbody>\n",
       "    <tr>\n",
       "      <th>0</th>\n",
       "      <td>1</td>\n",
       "      <td>F</td>\n",
       "      <td>1</td>\n",
       "      <td>10</td>\n",
       "      <td>48067</td>\n",
       "    </tr>\n",
       "    <tr>\n",
       "      <th>1</th>\n",
       "      <td>2</td>\n",
       "      <td>M</td>\n",
       "      <td>56</td>\n",
       "      <td>16</td>\n",
       "      <td>70072</td>\n",
       "    </tr>\n",
       "    <tr>\n",
       "      <th>2</th>\n",
       "      <td>3</td>\n",
       "      <td>M</td>\n",
       "      <td>25</td>\n",
       "      <td>15</td>\n",
       "      <td>55117</td>\n",
       "    </tr>\n",
       "    <tr>\n",
       "      <th>3</th>\n",
       "      <td>4</td>\n",
       "      <td>M</td>\n",
       "      <td>45</td>\n",
       "      <td>7</td>\n",
       "      <td>02460</td>\n",
       "    </tr>\n",
       "    <tr>\n",
       "      <th>4</th>\n",
       "      <td>5</td>\n",
       "      <td>M</td>\n",
       "      <td>25</td>\n",
       "      <td>20</td>\n",
       "      <td>55455</td>\n",
       "    </tr>\n",
       "  </tbody>\n",
       "</table>\n",
       "</div>"
      ],
      "text/plain": [
       "   UserID Gender  Age  Occupation Zip-code\n",
       "0       1      F    1          10    48067\n",
       "1       2      M   56          16    70072\n",
       "2       3      M   25          15    55117\n",
       "3       4      M   45           7    02460\n",
       "4       5      M   25          20    55455"
      ]
     },
     "execution_count": 5,
     "metadata": {},
     "output_type": "execute_result"
    }
   ],
   "source": [
    "# Loading users data\n",
    "users_path = \"./data/users.dat\"\n",
    "users = pd.read_csv(users_path, delimiter=\"::\", header=None, engine='python', encoding=get_file_encoding(users_path))\n",
    "users = users.rename(columns={0: \"UserID\", 1: \"Gender\", 2: \"Age\", 3: \"Occupation\", 4: \"Zip-code\"})\n",
    "\n",
    "users.head()"
   ]
  },
  {
   "cell_type": "markdown",
   "id": "d39aaa56-f83b-4491-97ab-d8e53fd2c218",
   "metadata": {},
   "source": [
    "## Naive Approaches"
   ]
  },
  {
   "cell_type": "markdown",
   "id": "2dfdc702-b0f3-4770-80cc-e4728e92400c",
   "metadata": {},
   "source": [
    "### Global average rating\n",
    "\n",
    "$$\n",
    "R_{global}(User, Item)=mean(\\text{all ratings})\n",
    "$$"
   ]
  },
  {
   "cell_type": "code",
   "execution_count": 12,
   "id": "0ada7e54-f2ff-431b-8e7e-497ba7bfb9da",
   "metadata": {},
   "outputs": [
    {
     "data": {
      "text/plain": [
       "3.581564453029317"
      ]
     },
     "execution_count": 12,
     "metadata": {},
     "output_type": "execute_result"
    }
   ],
   "source": [
    "r_global = ratings['Rating'].mean()\n",
    "r_global"
   ]
  },
  {
   "cell_type": "markdown",
   "id": "ae39e2d7-5723-4819-a49f-971aee6ae75f",
   "metadata": {
    "tags": []
   },
   "source": [
    "### Average rating per Item\n",
    "\n",
    "$$\n",
    "R_{item}(User, Item)=mean(\\text{all ratings for Item})\n",
    "$$"
   ]
  },
  {
   "cell_type": "code",
   "execution_count": 13,
   "id": "c7479f93-dcb8-42bd-bebf-8371082def9f",
   "metadata": {},
   "outputs": [
    {
     "data": {
      "text/plain": [
       "4.390724637681159"
      ]
     },
     "execution_count": 13,
     "metadata": {},
     "output_type": "execute_result"
    }
   ],
   "source": [
    "def r_item(item):\n",
    "    ratings_item = ratings[(ratings['MovieID'] == item)]\n",
    "    return ratings_item['Rating'].mean()\n",
    "    \n",
    "r_item(1193)"
   ]
  },
  {
   "cell_type": "markdown",
   "id": "e245114d-71cd-4ae7-827e-a558a0ad51d3",
   "metadata": {},
   "source": [
    "### Average rating per User\n",
    "\n",
    "$$\n",
    "R_{User}(User, Item)=mean(\\text{all ratings for User})\n",
    "$$"
   ]
  },
  {
   "cell_type": "code",
   "execution_count": 14,
   "id": "e886ebdb-020e-44b1-92e4-384bf6ccba95",
   "metadata": {},
   "outputs": [
    {
     "data": {
      "text/plain": [
       "4.188679245283019"
      ]
     },
     "execution_count": 14,
     "metadata": {},
     "output_type": "execute_result"
    }
   ],
   "source": [
    "def r_user(user):\n",
    "    ratings_user = ratings[(ratings['UserID'] == user)]\n",
    "    return ratings_user['Rating'].mean()\n",
    "    \n",
    "r_user(1)"
   ]
  },
  {
   "cell_type": "markdown",
   "id": "f6ee43a3-2cd1-4a00-ae18-2a79d6ab5daf",
   "metadata": {},
   "source": [
    "### Optimal Linear Combination of 2 averages"
   ]
  },
  {
   "cell_type": "code",
   "execution_count": 15,
   "id": "0c63a329-68ca-47f7-973a-8c3f9bb8faa6",
   "metadata": {},
   "outputs": [],
   "source": [
    "# Compute average rates of all users\n",
    "R_u = {}\n",
    "\n",
    "for userID in ratings['UserID'].unique():\n",
    "    R_u[userID] = r_user(userID)"
   ]
  },
  {
   "cell_type": "code",
   "execution_count": 16,
   "id": "e8cc7a7c-5345-4532-bf50-1307972c4920",
   "metadata": {},
   "outputs": [],
   "source": [
    "# Compute average rates of all items\n",
    "R_i = {}\n",
    "\n",
    "for movieID in ratings['MovieID'].unique():\n",
    "    R_i[movieID] = r_item(movieID)"
   ]
  },
  {
   "cell_type": "code",
   "execution_count": 17,
   "id": "f913a159-cdd4-4559-b676-ee723d3a6434",
   "metadata": {},
   "outputs": [],
   "source": [
    "# Params training data\n",
    "X = ratings[['UserID', 'MovieID']].to_numpy()\n",
    "Y = ratings['Rating'].to_numpy()"
   ]
  },
  {
   "cell_type": "markdown",
   "id": "64fc383a-efb2-4c1c-8411-aed7bfcaf3ad",
   "metadata": {
    "jp-MarkdownHeadingCollapsed": true,
    "tags": []
   },
   "source": [
    "#### Including bias term\n",
    "\n",
    "$$\n",
    "R_{user-item}(User, Item) = \\alpha * R_{user}(User, Item) + \\beta * R_{item}(User, Item) + \\gamma\n",
    "$$"
   ]
  },
  {
   "cell_type": "code",
   "execution_count": 18,
   "id": "87c45e5e-40ed-4322-b099-237b86e76272",
   "metadata": {},
   "outputs": [],
   "source": [
    "def r_user_item_with_bias(alpha, beta, gamma, user, item):\n",
    "    r_u = R_u[user]\n",
    "    r_i = R_i[item]\n",
    "    return alpha * r_u + beta * r_i + gamma"
   ]
  },
  {
   "cell_type": "code",
   "execution_count": 68,
   "id": "33108fe5-e062-4057-b2a7-76b1c39716ea",
   "metadata": {},
   "outputs": [],
   "source": [
    "def learn_params_with_bias(X, Y):\n",
    "    gamma = np.random.uniform(0, 0.1)\n",
    "    beta = np.random.uniform(0, 0.1)\n",
    "    alpha = np.random.uniform(0, 0.1)\n",
    "    lrate = 0.01\n",
    "    \n",
    "    for epoch in range(1, 10):\n",
    "        for x, y in zip(X, Y):\n",
    "            r_u = R_u[x[0]]\n",
    "            r_i = R_i[x[1]]\n",
    "            \n",
    "            y_pred = alpha * r_u + beta * r_i + gamma\n",
    "\n",
    "            d_l = -2 * (y - y_pred)\n",
    "            d_alpha = r_u * d_l\n",
    "            d_beta = r_i * d_l\n",
    "            d_gamma = d_l\n",
    "\n",
    "            # Update params\n",
    "            alpha -= lrate * d_alpha\n",
    "            beta -= lrate * d_beta\n",
    "            gamma -= lrate * d_gamma\n",
    "        \n",
    "    \n",
    "    return alpha, beta, gamma"
   ]
  },
  {
   "cell_type": "code",
   "execution_count": 69,
   "id": "f3015089-cb34-477e-976c-e2908efa561c",
   "metadata": {},
   "outputs": [],
   "source": [
    "# Estimate params with bias\n",
    "alpha, beta, gamma = learn_params_with_bias(X, Y)"
   ]
  },
  {
   "cell_type": "code",
   "execution_count": 70,
   "id": "bb77796c-c76e-4940-bab3-4e2a01aae332",
   "metadata": {
    "tags": []
   },
   "outputs": [
    {
     "name": "stdout",
     "output_type": "stream",
     "text": [
      "MSE: 0.9739831459715035\n"
     ]
    }
   ],
   "source": [
    "Y_pred = [r_user_item_with_bias(alpha, beta, gamma, x[0], x[1]) for x,y in zip(X,Y)]\n",
    "print(f'MSE: {mean_squared_error(Y, Y_pred)}')"
   ]
  },
  {
   "cell_type": "markdown",
   "id": "2db2c00c-129a-474a-a978-df8e56c1b63b",
   "metadata": {
    "tags": []
   },
   "source": [
    "#### Excluding bias term\n",
    "\n",
    "$$\n",
    "R_{user^{*}-item}(User, Item) = \\alpha * R_{user}(User, Item) + \\beta_{user} * R_{item}(User, Item)\n",
    "$$"
   ]
  },
  {
   "cell_type": "code",
   "execution_count": 22,
   "id": "991cfe3e-be0b-414c-be1d-766872f395bc",
   "metadata": {},
   "outputs": [],
   "source": [
    "def r_user_item_without_bias(alpha, beta, user, item):\n",
    "    r_u = R_u[user]\n",
    "    r_i = R_i[item]\n",
    "    return alpha * r_u + beta * r_i"
   ]
  },
  {
   "cell_type": "code",
   "execution_count": 64,
   "id": "740eb497-3f97-44c9-8218-a45b1c895b92",
   "metadata": {},
   "outputs": [],
   "source": [
    "def learn_params_without_bias(X, Y):\n",
    "    beta = np.random.uniform(0, 0.1)\n",
    "    alpha = np.random.uniform(0, 0.1)\n",
    "    lrate = 0.01\n",
    "    \n",
    "    for epoch in range(1, 10):\n",
    "        for x, y in zip(X, Y):\n",
    "            r_u = R_u[x[0]]\n",
    "            r_i = R_i[x[1]]\n",
    "            \n",
    "            y_pred = alpha * r_u + beta * r_i + gamma\n",
    "\n",
    "            d_l = -2 * (y -  y_pred)\n",
    "            d_alpha = r_u * d_l\n",
    "            d_beta = r_i * d_l\n",
    "\n",
    "            # Update params\n",
    "            alpha -= lrate * d_alpha\n",
    "            beta -= lrate * d_beta\n",
    "        \n",
    "        Y_pred = [r_user_item_without_bias(alpha, beta, x[0], x[1]) for x,y in zip(X,Y)]\n",
    "    \n",
    "    return alpha, beta"
   ]
  },
  {
   "cell_type": "code",
   "execution_count": 65,
   "id": "5d7b8b1a-3ed9-486c-a3ec-cb1446f8d5aa",
   "metadata": {},
   "outputs": [],
   "source": [
    "# Estimate params without bias\n",
    "alpha, beta = learn_params_without_bias(X, Y)"
   ]
  },
  {
   "cell_type": "code",
   "execution_count": 66,
   "id": "85160b16-5bf7-437a-8d47-e9635058dc92",
   "metadata": {},
   "outputs": [
    {
     "name": "stdout",
     "output_type": "stream",
     "text": [
      "MSE: 12.83186075662626\n"
     ]
    }
   ],
   "source": [
    "Y_pred = [r_user_item_without_bias(alpha, beta, x[0], x[1]) for x,y in zip(X,Y)]\n",
    "print(f'MSE: {mean_squared_error(Y, Y_pred)}')"
   ]
  }
 ],
 "metadata": {
  "kernelspec": {
   "display_name": "Python 3 (ipykernel)",
   "language": "python",
   "name": "python3"
  },
  "language_info": {
   "codemirror_mode": {
    "name": "ipython",
    "version": 3
   },
   "file_extension": ".py",
   "mimetype": "text/x-python",
   "name": "python",
   "nbconvert_exporter": "python",
   "pygments_lexer": "ipython3",
   "version": "3.11.4"
  },
  "toc-autonumbering": true,
  "toc-showtags": false
 },
 "nbformat": 4,
 "nbformat_minor": 5
}
