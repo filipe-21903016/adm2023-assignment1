{
 "cells": [
  {
   "cell_type": "markdown",
   "id": "d12d3b94-0237-4d10-a8e4-8300262078f4",
   "metadata": {
    "tags": []
   },
   "source": [
    "# Recommender Systems"
   ]
  },
  {
   "cell_type": "code",
   "execution_count": 48,
   "id": "dde23472-3077-4e20-8f80-bb10e31a4ee1",
   "metadata": {},
   "outputs": [],
   "source": [
    "import pandas as pd\n",
    "import numpy as np\n",
    "from sklearn.preprocessing import OneHotEncoder, LabelEncoder\n",
    "import chardet"
   ]
  },
  {
   "cell_type": "markdown",
   "id": "1c231150-0ce3-419a-8f86-a9a1f9cc5be0",
   "metadata": {
    "tags": []
   },
   "source": [
    "## Loading data"
   ]
  },
  {
   "cell_type": "markdown",
   "id": "c4a0dd82-388f-47e8-a9e3-34a76496e7e0",
   "metadata": {},
   "source": [
    "It appears that there is inconsistency in the text encoding used in various data files. As a result, we must verify the encoding to ensure accurate data reading from these files."
   ]
  },
  {
   "cell_type": "code",
   "execution_count": 49,
   "id": "8cd895ea-9558-4625-b348-753c6276ed2e",
   "metadata": {},
   "outputs": [],
   "source": [
    "def get_file_encoding(file_path):\n",
    "    \"\"\"\n",
    "    This function checks the text enconding used in a particular file\n",
    "    \n",
    "    :param file_path: The file path you wish to examine for its encoding\n",
    "    :return: String containing enconding type\n",
    "    \"\"\"\n",
    "    \n",
    "    with open(file_path, 'rb') as f:\n",
    "        result = chardet.detect(f.read())\n",
    "        return result['encoding']"
   ]
  },
  {
   "cell_type": "code",
   "execution_count": 50,
   "id": "cf48e43c-ed09-4306-b8fd-acaf23c9bf34",
   "metadata": {},
   "outputs": [
    {
     "data": {
      "text/html": [
       "<div>\n",
       "<style scoped>\n",
       "    .dataframe tbody tr th:only-of-type {\n",
       "        vertical-align: middle;\n",
       "    }\n",
       "\n",
       "    .dataframe tbody tr th {\n",
       "        vertical-align: top;\n",
       "    }\n",
       "\n",
       "    .dataframe thead th {\n",
       "        text-align: right;\n",
       "    }\n",
       "</style>\n",
       "<table border=\"1\" class=\"dataframe\">\n",
       "  <thead>\n",
       "    <tr style=\"text-align: right;\">\n",
       "      <th></th>\n",
       "      <th>UserID</th>\n",
       "      <th>MovieID</th>\n",
       "      <th>Rating</th>\n",
       "      <th>Timestamp</th>\n",
       "    </tr>\n",
       "  </thead>\n",
       "  <tbody>\n",
       "    <tr>\n",
       "      <th>0</th>\n",
       "      <td>1</td>\n",
       "      <td>1193</td>\n",
       "      <td>5</td>\n",
       "      <td>978300760</td>\n",
       "    </tr>\n",
       "    <tr>\n",
       "      <th>1</th>\n",
       "      <td>1</td>\n",
       "      <td>661</td>\n",
       "      <td>3</td>\n",
       "      <td>978302109</td>\n",
       "    </tr>\n",
       "    <tr>\n",
       "      <th>2</th>\n",
       "      <td>1</td>\n",
       "      <td>914</td>\n",
       "      <td>3</td>\n",
       "      <td>978301968</td>\n",
       "    </tr>\n",
       "    <tr>\n",
       "      <th>3</th>\n",
       "      <td>1</td>\n",
       "      <td>3408</td>\n",
       "      <td>4</td>\n",
       "      <td>978300275</td>\n",
       "    </tr>\n",
       "    <tr>\n",
       "      <th>4</th>\n",
       "      <td>1</td>\n",
       "      <td>2355</td>\n",
       "      <td>5</td>\n",
       "      <td>978824291</td>\n",
       "    </tr>\n",
       "  </tbody>\n",
       "</table>\n",
       "</div>"
      ],
      "text/plain": [
       "   UserID  MovieID  Rating  Timestamp\n",
       "0       1     1193       5  978300760\n",
       "1       1      661       3  978302109\n",
       "2       1      914       3  978301968\n",
       "3       1     3408       4  978300275\n",
       "4       1     2355       5  978824291"
      ]
     },
     "execution_count": 50,
     "metadata": {},
     "output_type": "execute_result"
    }
   ],
   "source": [
    "# Loading ratings data\n",
    "ratings_path =\"./ratings.dat\"\n",
    "ratings = pd.read_csv(ratings_path, delimiter=\"::\", header=None, engine='python', encoding=get_file_encoding(ratings_path))\n",
    "ratings = ratings.rename(columns={0: \"UserID\", 1: \"MovieID\", 2: \"Rating\", 3:\"Timestamp\"}) # Set ratings column names\n",
    "\n",
    "ratings.head()"
   ]
  },
  {
   "cell_type": "code",
   "execution_count": 51,
   "id": "961137de-33e8-4406-8382-557f1917216b",
   "metadata": {},
   "outputs": [],
   "source": [
    "#Loading movies data\n",
    "# movies_path = \"./movies.dat\"\n",
    "# movies = pd.read_csv(movies_path, delimiter=\"::\", header=None, engine='python', encoding= get_file_encoding(movies_path))\n",
    "# movies = movies.rename(columns={0: \"MovieID\", 1: \"Title\", 2: \"Genres\"})\n",
    "\n",
    "# movies.head()"
   ]
  },
  {
   "cell_type": "code",
   "execution_count": 52,
   "id": "4760af66-ca6c-4ff8-af76-292c7d6ab212",
   "metadata": {},
   "outputs": [],
   "source": [
    "#Loading users data\n",
    "# users_path = \"./users.dat\"\n",
    "# users = pd.read_csv(users_path, delimiter=\"::\", header=None, engine='python', encoding= get_file_encoding(users_path))\n",
    "# users = users.rename(columns={0: \"UserID\", 1: \"Gender\", 2: \"Age\", 3: \"Occupation\", 4: \"Zip-code\"})\n",
    "\n",
    "# users.head()"
   ]
  },
  {
   "cell_type": "markdown",
   "id": "906125e9-c359-4a65-81ee-ad01fadd1362",
   "metadata": {},
   "source": [
    "## Pre-processing Data"
   ]
  },
  {
   "cell_type": "markdown",
   "id": "5e7c06c8-9a70-41b2-b771-fb138e5a597e",
   "metadata": {},
   "source": [
    "### Preparing Users"
   ]
  },
  {
   "cell_type": "code",
   "execution_count": 53,
   "id": "3acba525-57ed-48a5-9330-f37d90c91e12",
   "metadata": {},
   "outputs": [],
   "source": [
    "# # One Hot Encode Gender\n",
    "# encoder = OneHotEncoder(sparse_output=False)\n",
    "\n",
    "# # Encode genders\n",
    "# encoded_gender = encoder.fit_transform(users[['Gender']])\n",
    "# encoded_gender_df = pd.DataFrame(encoded_gender, columns = encoder.get_feature_names_out(['Gender']))\n",
    "\n",
    "# # Concat new hot encoded columns\n",
    "# users = pd.concat([users, encoded_gender_df], axis = 1)\n",
    "\n",
    "# # Drop previous gender column\n",
    "# users.drop(['Gender'], axis='columns', inplace=True)"
   ]
  },
  {
   "cell_type": "code",
   "execution_count": 54,
   "id": "570014e6-acd1-40f2-b3a4-80520016cd7a",
   "metadata": {},
   "outputs": [],
   "source": [
    "# # Label Encode Zip-code\n",
    "# le = LabelEncoder()\n",
    "\n",
    "# # Update column\n",
    "# users['Zip-code'] = le.fit_transform(users['Zip-code'])"
   ]
  },
  {
   "cell_type": "code",
   "execution_count": 55,
   "id": "80b71920-7eda-4b03-ab99-9c03b4b4de27",
   "metadata": {},
   "outputs": [],
   "source": [
    "# users.head()"
   ]
  },
  {
   "cell_type": "code",
   "execution_count": 56,
   "id": "06b4da70-744f-4eae-8b95-de80d379c8ce",
   "metadata": {},
   "outputs": [],
   "source": [
    "# users.info()"
   ]
  },
  {
   "cell_type": "markdown",
   "id": "fffd0ef9",
   "metadata": {},
   "source": [
    "# Naive Approaches"
   ]
  },
  {
   "cell_type": "code",
   "execution_count": 57,
   "id": "fb5a5a2b",
   "metadata": {},
   "outputs": [],
   "source": [
    "from sklearn.model_selection import KFold\n",
    "from sklearn.metrics import mean_squared_error, mean_absolute_error"
   ]
  },
  {
   "cell_type": "code",
   "execution_count": 58,
   "id": "95ad6708",
   "metadata": {},
   "outputs": [],
   "source": [
    "# FOUR FUCTIONS => FOUR NAIVE APPROACHES\n",
    "\n",
    "# global average\n",
    "def global_average(train, test, is_train=False):\n",
    "    if is_train:\n",
    "        return [train['Rating'].mean()] * len(train)\n",
    "    else:\n",
    "        return [train['Rating'].mean()] * len(test)\n",
    "\n",
    "# movie average\n",
    "def movie_average(train, test, is_train=False):\n",
    "    if is_train:\n",
    "        movie_avg_train = train.groupby('MovieID')['Rating'].mean()\n",
    "        return movie_avg_train[train['MovieID']].to_numpy()    # A NumPy ndarray representing the values in this Series\n",
    "\n",
    "    else:\n",
    "        movie_avg_predictions = test['MovieID'].map(train.groupby('MovieID')['Rating'].mean())  # movie average predictions for a test set based on \n",
    "        movie_avg_predictions.fillna(train['Rating'].mean(), inplace=True)                       # the movie average ratings in the training set             \n",
    "        return movie_avg_predictions\n",
    "\n",
    "# user average\n",
    "def user_average(train, test, is_train=False):\n",
    "    if is_train:\n",
    "        user_avg_train = train.groupby('UserID')['Rating'].mean()\n",
    "        return user_avg_train[train['UserID']].to_numpy()    # A NumPy ndarray representing the values in this Series\n",
    "\n",
    "    else:\n",
    "        user_avg_predictions = test['UserID'].map(train.groupby('UserID')['Rating'].mean()) # user average predictions for a test set based on \n",
    "        user_avg_predictions.fillna(train['Rating'].mean(), inplace=True)                       # the user average ratings in the training set\n",
    "        return user_avg_predictions\n",
    "\n",
    "\n",
    "# linear combination of the three averages\n",
    "def linear_combination(train, test, is_train=False):\n",
    "    user_avg = train.groupby('UserID')['Rating'].mean()\n",
    "    movie_avg = train.groupby('MovieID')['Rating'].mean()\n",
    "\n",
    "    A = np.vstack([user_avg[train['UserID']], movie_avg[train['MovieID']], np.ones(len(train))]).T\n",
    "    b = train['Rating']\n",
    "\n",
    "    alpha, beta, gamma = np.linalg.lstsq(A, b, rcond=None)[0]     # https://numpy.org/doc/stable/reference/generated/numpy.linalg.lstsq.html\n",
    "\n",
    "    if is_train: \n",
    "        prediction = alpha * user_average(train, test, is_train=True) + beta * movie_average(train, test, is_train=True) + gamma\n",
    "    else:\n",
    "        prediction = alpha * user_average(train, test) + beta * movie_average(train, test) + gamma\n",
    "\n",
    "    prediction = np.clip(prediction, 1, 5)\n",
    "\n",
    "    return prediction\n",
    "\n",
    "\n",
    "    # I already handled the missing values is user_average() and movie_average()\n",
    "    \n"
   ]
  },
  {
   "cell_type": "markdown",
   "id": "44e35e6d",
   "metadata": {},
   "source": [
    "## 5-fold Cross-Validation"
   ]
  },
  {
   "cell_type": "code",
   "execution_count": 59,
   "id": "53736f98",
   "metadata": {},
   "outputs": [
    {
     "name": "stdout",
     "output_type": "stream",
     "text": [
      "RMSE and MAE over training set:\n",
      "Global Average RMSE - training set: 1.1171\n",
      "Global Average MAE - training set: 0.93386\n",
      "-----------------------------\n",
      "User Average RMSE - training set: 1.02767\n",
      "User Average MAE - training set: 0.82272\n",
      "-----------------------------\n",
      "Movie Average RMSE - training set: 0.97423\n",
      "Movie Average MAE - training set: 0.77834\n",
      "-----------------------------\n",
      "Linear Combination RMSE - training set: 0.91456\n",
      "Linear Combination MAE - training set: 0.72481\n",
      "---------------------------------------------\n",
      "RMSE and MAE over test set:\n",
      "Global Average RMSE - test set: 1.1171\n",
      "Global Average MAE - test set: 0.93386\n",
      "-----------------------------\n",
      "User Average RMSE - test set: 1.03548\n",
      "User Average MAE: 0.82895\n",
      "-----------------------------\n",
      "Movie Average RMSE - test set: 0.97937\n",
      "Movie Average MAE - test set: 0.78228\n",
      "-----------------------------\n",
      "Linear Combination RMSE - test set: 0.92426\n",
      "Linear Combination MAE - test set: 0.73243\n"
     ]
    }
   ],
   "source": [
    "# 5 - fold Cross Validation\n",
    "\n",
    "kf = KFold(n_splits=5, shuffle=True, random_state=42)   # random seed set at the beginning\n",
    "\n",
    "# training set\n",
    "rmse_global_train = []\n",
    "mae_global_train = []\n",
    "\n",
    "rmse_user_train = []\n",
    "mae_user_train = []\n",
    "\n",
    "rmse_movie_train = []\n",
    "mae_movie_train = []\n",
    "\n",
    "rmse_combination_train = []\n",
    "mae_combination_train = []\n",
    "\n",
    "# test set\n",
    "rmse_global_test = []\n",
    "mae_global_test = []\n",
    "\n",
    "rmse_user_test = []\n",
    "mae_user_test = []\n",
    "\n",
    "rmse_movie_test = []\n",
    "mae_movie_test = []\n",
    "\n",
    "rmse_combination_test = []\n",
    "mae_combination_test = []\n",
    "\n",
    "for train_index, test_index in kf.split(ratings):\n",
    "    train_data, test_data = ratings.iloc[train_index], ratings.iloc[test_index]\n",
    "\n",
    "    # Compute RMSE and MAE over training set\n",
    "    rmse_global_train.append(np.sqrt(mean_squared_error(train_data['Rating'], global_average(train_data, test_data, is_train=True))))\n",
    "    mae_global_train.append(mean_absolute_error(train_data['Rating'], global_average(train_data, test_data, is_train=True)))\n",
    "\n",
    "    rmse_user_train.append(np.sqrt(mean_squared_error(train_data['Rating'], user_average(train_data, test_data, is_train=True))))\n",
    "    mae_user_train.append(mean_absolute_error(train_data['Rating'], user_average(train_data, test_data, is_train=True)))\n",
    "\n",
    "    rmse_movie_train.append(np.sqrt(mean_squared_error(train_data['Rating'], movie_average(train_data, test_data, is_train=True))))\n",
    "    mae_movie_train.append(mean_absolute_error(train_data['Rating'], movie_average(train_data, test_data, is_train=True)))\n",
    "\n",
    "    rmse_combination_train.append(np.sqrt(mean_squared_error(train_data['Rating'], linear_combination(train_data, test_data, is_train=True))))\n",
    "    mae_combination_train.append(mean_absolute_error(train_data['Rating'], linear_combination(train_data, test_data, is_train=True)))\n",
    "\n",
    "    # Compute RMSE and MAE test set\n",
    "    rmse_global_test.append(np.sqrt(mean_squared_error(test_data['Rating'], global_average(train_data, test_data))))\n",
    "    mae_global_test.append(mean_absolute_error(test_data['Rating'], global_average(train_data, test_data)))\n",
    "\n",
    "    rmse_user_test.append(np.sqrt(mean_squared_error(test_data['Rating'], user_average(train_data, test_data))))\n",
    "    mae_user_test.append(mean_absolute_error(test_data['Rating'], user_average(train_data, test_data)))\n",
    "\n",
    "    rmse_movie_test.append(np.sqrt(mean_squared_error(test_data['Rating'], movie_average(train_data, test_data))))\n",
    "    mae_movie_test.append(mean_absolute_error(test_data['Rating'], movie_average(train_data, test_data)))\n",
    "\n",
    "    rmse_combination_test.append(np.sqrt(mean_squared_error(test_data['Rating'], linear_combination(train_data, test_data))))\n",
    "    mae_combination_test.append(mean_absolute_error(test_data['Rating'], linear_combination(train_data, test_data)))\n",
    "\n",
    "    # print(rmse_global_train) # to chesk how 5-folds cross validation works\n",
    "\n",
    "\n",
    "\n",
    "print(\"RMSE and MAE over training set:\")\n",
    "print(\"Global Average RMSE - training set:\", np.mean(rmse_global_train).round(5))  \n",
    "print(\"Global Average MAE - training set:\", np.mean(mae_global_train).round(5))\n",
    "\n",
    "print(\"-----------------------------\")\n",
    "\n",
    "print(\"User Average RMSE - training set:\", np.mean(rmse_user_train).round(5))\n",
    "print(\"User Average MAE - training set:\", np.mean(mae_user_train).round(5))\n",
    "\n",
    "print(\"-----------------------------\")\n",
    "\n",
    "print(\"Movie Average RMSE - training set:\", np.mean(rmse_movie_train).round(5))\n",
    "print(\"Movie Average MAE - training set:\", np.mean(mae_movie_train).round(5))\n",
    "\n",
    "print(\"-----------------------------\")\n",
    "\n",
    "print(\"Linear Combination RMSE - training set:\", np.mean(rmse_combination_train).round(5))\n",
    "print(\"Linear Combination MAE - training set:\", np.mean(mae_combination_train).round(5))\n",
    "\n",
    "print(\"---------------------------------------------\")\n",
    "\n",
    "print(\"RMSE and MAE over test set:\")\n",
    "print(\"Global Average RMSE - test set:\", np.mean(rmse_global_test).round(5))  \n",
    "print(\"Global Average MAE - test set:\", np.mean(mae_global_test).round(5))\n",
    "\n",
    "print(\"-----------------------------\")\n",
    "\n",
    "print(\"User Average RMSE - test set:\", np.mean(rmse_user_test).round(5))\n",
    "print(\"User Average MAE:\", np.mean(mae_user_test).round(5))\n",
    "\n",
    "print(\"-----------------------------\")\n",
    "\n",
    "print(\"Movie Average RMSE - test set:\", np.mean(rmse_movie_test).round(5))\n",
    "print(\"Movie Average MAE - test set:\", np.mean(mae_movie_test).round(5))\n",
    "\n",
    "print(\"-----------------------------\")\n",
    "\n",
    "print(\"Linear Combination RMSE - test set:\", np.mean(rmse_combination_test).round(5))\n",
    "print(\"Linear Combination MAE - test set:\", np.mean(mae_combination_test).round(5))\n"
   ]
  },
  {
   "cell_type": "code",
   "execution_count": 62,
   "id": "ad525546",
   "metadata": {},
   "outputs": [
    {
     "name": "stdout",
     "output_type": "stream",
     "text": [
      "RMSE and MAE table over training set:\n"
     ]
    },
    {
     "data": {
      "text/html": [
       "<div>\n",
       "<style scoped>\n",
       "    .dataframe tbody tr th:only-of-type {\n",
       "        vertical-align: middle;\n",
       "    }\n",
       "\n",
       "    .dataframe tbody tr th {\n",
       "        vertical-align: top;\n",
       "    }\n",
       "\n",
       "    .dataframe thead th {\n",
       "        text-align: right;\n",
       "    }\n",
       "</style>\n",
       "<table border=\"1\" class=\"dataframe\">\n",
       "  <thead>\n",
       "    <tr style=\"text-align: right;\">\n",
       "      <th></th>\n",
       "      <th>Metric</th>\n",
       "      <th>Global Average</th>\n",
       "      <th>User Average</th>\n",
       "      <th>Movie Average</th>\n",
       "      <th>Linear Combination</th>\n",
       "    </tr>\n",
       "  </thead>\n",
       "  <tbody>\n",
       "    <tr>\n",
       "      <th>0</th>\n",
       "      <td>RMSE</td>\n",
       "      <td>1.117101</td>\n",
       "      <td>1.027673</td>\n",
       "      <td>0.974228</td>\n",
       "      <td>0.914556</td>\n",
       "    </tr>\n",
       "    <tr>\n",
       "      <th>1</th>\n",
       "      <td>MAE</td>\n",
       "      <td>0.933861</td>\n",
       "      <td>0.822719</td>\n",
       "      <td>0.778336</td>\n",
       "      <td>0.724810</td>\n",
       "    </tr>\n",
       "  </tbody>\n",
       "</table>\n",
       "</div>"
      ],
      "text/plain": [
       "  Metric  Global Average  User Average  Movie Average  Linear Combination\n",
       "0   RMSE        1.117101      1.027673       0.974228            0.914556\n",
       "1    MAE        0.933861      0.822719       0.778336            0.724810"
      ]
     },
     "execution_count": 62,
     "metadata": {},
     "output_type": "execute_result"
    }
   ],
   "source": [
    "d_train = {\"Metric\": [\"RMSE\", \"MAE\"],\n",
    "          \"Global Average\": [np.mean(rmse_global_train), np.mean(mae_global_train)],\n",
    "          \"User Average\": [np.mean(rmse_user_train), np.mean(mae_user_train)],\n",
    "          \"Movie Average\": [np.mean(rmse_movie_train), np.mean(mae_movie_train)],\n",
    "          \"Linear Combination\": [np.mean(rmse_combination_train),np.mean(mae_combination_train)]}\n",
    "df_train = pd.DataFrame(data=d_train)\n",
    "\n",
    "print(\"RMSE and MAE table over training set:\")\n",
    "df_train"
   ]
  },
  {
   "cell_type": "code",
   "execution_count": 60,
   "id": "9c379921",
   "metadata": {},
   "outputs": [
    {
     "data": {
      "text/html": [
       "<div>\n",
       "<style scoped>\n",
       "    .dataframe tbody tr th:only-of-type {\n",
       "        vertical-align: middle;\n",
       "    }\n",
       "\n",
       "    .dataframe tbody tr th {\n",
       "        vertical-align: top;\n",
       "    }\n",
       "\n",
       "    .dataframe thead th {\n",
       "        text-align: right;\n",
       "    }\n",
       "</style>\n",
       "<table border=\"1\" class=\"dataframe\">\n",
       "  <thead>\n",
       "    <tr style=\"text-align: right;\">\n",
       "      <th></th>\n",
       "      <th>Metric</th>\n",
       "      <th>Global Average</th>\n",
       "      <th>User Average</th>\n",
       "      <th>Movie Average</th>\n",
       "      <th>Linear Combination</th>\n",
       "    </tr>\n",
       "  </thead>\n",
       "  <tbody>\n",
       "    <tr>\n",
       "      <th>0</th>\n",
       "      <td>RMSE</td>\n",
       "      <td>1.117101</td>\n",
       "      <td>1.03548</td>\n",
       "      <td>0.979367</td>\n",
       "      <td>0.924256</td>\n",
       "    </tr>\n",
       "    <tr>\n",
       "      <th>1</th>\n",
       "      <td>MAE</td>\n",
       "      <td>0.933862</td>\n",
       "      <td>0.82895</td>\n",
       "      <td>0.782284</td>\n",
       "      <td>0.732430</td>\n",
       "    </tr>\n",
       "  </tbody>\n",
       "</table>\n",
       "</div>"
      ],
      "text/plain": [
       "  Metric  Global Average  User Average  Movie Average  Linear Combination\n",
       "0   RMSE        1.117101       1.03548       0.979367            0.924256\n",
       "1    MAE        0.933862       0.82895       0.782284            0.732430"
      ]
     },
     "execution_count": 60,
     "metadata": {},
     "output_type": "execute_result"
    }
   ],
   "source": [
    "# https://pandas.pydata.org/docs/reference/api/pandas.DataFrame.html\n",
    "\n",
    "d_test = {\"Metric\": [\"RMSE\", \"MAE\"],\n",
    "          \"Global Average\": [np.mean(rmse_global_test), np.mean(mae_global_test)],\n",
    "          \"User Average\": [np.mean(rmse_user_test), np.mean(mae_user_test)],\n",
    "          \"Movie Average\": [np.mean(rmse_movie_test), np.mean(mae_movie_test)],\n",
    "          \"Linear Combination\": [np.mean(rmse_combination_test),np.mean(mae_combination_test)]}\n",
    "df_test = pd.DataFrame(data=d_test)\n",
    "\n",
    "print(\"RMSE and MAE table over test set:\")\n",
    "df_test"
   ]
  }
 ],
 "metadata": {
  "kernelspec": {
   "display_name": "Python 3 (ipykernel)",
   "language": "python",
   "name": "python3"
  },
  "language_info": {
   "codemirror_mode": {
    "name": "ipython",
    "version": 3
   },
   "file_extension": ".py",
   "mimetype": "text/x-python",
   "name": "python",
   "nbconvert_exporter": "python",
   "pygments_lexer": "ipython3",
   "version": "3.11.1"
  },
  "toc-autonumbering": false,
  "toc-showtags": false
 },
 "nbformat": 4,
 "nbformat_minor": 5
}
