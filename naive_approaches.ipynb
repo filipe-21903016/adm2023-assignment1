{
 "cells": [
  {
   "cell_type": "markdown",
   "id": "d12d3b94-0237-4d10-a8e4-8300262078f4",
   "metadata": {
    "tags": []
   },
   "source": [
    "# Recommender Systems"
   ]
  },
  {
   "cell_type": "markdown",
   "id": "7fb565d6",
   "metadata": {},
   "source": [
    "Recommender systems are critical in providing personalized proposals for users across various fields. In this assignment, we aim to evaluate the performance of three algorithms covered in the course, namely Naive methods, UV matrix decomposition, and matrix factorization, and to provide insights into their effectiveness using the MovieLens 1M data set. Additionally, we used 5-fold cross-validation to increase the reliability of our recommender systems' results for data (movie or user) that did not occur in the training process. After implementing each of the algorithms, we used the Root Mean Squared Error (RMSE) and the Mean Absolute Error (MAE) over both the training and the test set for the examination of their accuracy."
   ]
  },
  {
   "cell_type": "markdown",
   "id": "95755b3d",
   "metadata": {},
   "source": [
    "### Import Libraries"
   ]
  },
  {
   "cell_type": "code",
   "execution_count": 85,
   "id": "dde23472-3077-4e20-8f80-bb10e31a4ee1",
   "metadata": {},
   "outputs": [],
   "source": [
    "import pandas as pd\n",
    "import numpy as np\n",
    "from sklearn.preprocessing import OneHotEncoder, LabelEncoder\n",
    "import chardet"
   ]
  },
  {
   "cell_type": "markdown",
   "id": "1c231150-0ce3-419a-8f86-a9a1f9cc5be0",
   "metadata": {
    "tags": []
   },
   "source": [
    "## Loading data"
   ]
  },
  {
   "cell_type": "markdown",
   "id": "c4a0dd82-388f-47e8-a9e3-34a76496e7e0",
   "metadata": {},
   "source": [
    "It appears that there is inconsistency in the text encoding used in various data files. As a result, we must verify the encoding to ensure accurate data reading from these files."
   ]
  },
  {
   "cell_type": "code",
   "execution_count": 86,
   "id": "8cd895ea-9558-4625-b348-753c6276ed2e",
   "metadata": {},
   "outputs": [],
   "source": [
    "def get_file_encoding(file_path):\n",
    "    \"\"\"\n",
    "    This function checks the text enconding used in a particular file\n",
    "    \n",
    "    :param file_path: The file path you wish to examine for its encoding\n",
    "    :return: String containing enconding type\n",
    "    \"\"\"\n",
    "    \n",
    "    with open(file_path, 'rb') as f:\n",
    "        result = chardet.detect(f.read())\n",
    "        return result['encoding']"
   ]
  },
  {
   "cell_type": "code",
   "execution_count": 87,
   "id": "cf48e43c-ed09-4306-b8fd-acaf23c9bf34",
   "metadata": {},
   "outputs": [
    {
     "data": {
      "text/html": [
       "<div>\n",
       "<style scoped>\n",
       "    .dataframe tbody tr th:only-of-type {\n",
       "        vertical-align: middle;\n",
       "    }\n",
       "\n",
       "    .dataframe tbody tr th {\n",
       "        vertical-align: top;\n",
       "    }\n",
       "\n",
       "    .dataframe thead th {\n",
       "        text-align: right;\n",
       "    }\n",
       "</style>\n",
       "<table border=\"1\" class=\"dataframe\">\n",
       "  <thead>\n",
       "    <tr style=\"text-align: right;\">\n",
       "      <th></th>\n",
       "      <th>UserID</th>\n",
       "      <th>MovieID</th>\n",
       "      <th>Rating</th>\n",
       "      <th>Timestamp</th>\n",
       "    </tr>\n",
       "  </thead>\n",
       "  <tbody>\n",
       "    <tr>\n",
       "      <th>0</th>\n",
       "      <td>1</td>\n",
       "      <td>1193</td>\n",
       "      <td>5</td>\n",
       "      <td>978300760</td>\n",
       "    </tr>\n",
       "    <tr>\n",
       "      <th>1</th>\n",
       "      <td>1</td>\n",
       "      <td>661</td>\n",
       "      <td>3</td>\n",
       "      <td>978302109</td>\n",
       "    </tr>\n",
       "    <tr>\n",
       "      <th>2</th>\n",
       "      <td>1</td>\n",
       "      <td>914</td>\n",
       "      <td>3</td>\n",
       "      <td>978301968</td>\n",
       "    </tr>\n",
       "    <tr>\n",
       "      <th>3</th>\n",
       "      <td>1</td>\n",
       "      <td>3408</td>\n",
       "      <td>4</td>\n",
       "      <td>978300275</td>\n",
       "    </tr>\n",
       "    <tr>\n",
       "      <th>4</th>\n",
       "      <td>1</td>\n",
       "      <td>2355</td>\n",
       "      <td>5</td>\n",
       "      <td>978824291</td>\n",
       "    </tr>\n",
       "  </tbody>\n",
       "</table>\n",
       "</div>"
      ],
      "text/plain": [
       "   UserID  MovieID  Rating  Timestamp\n",
       "0       1     1193       5  978300760\n",
       "1       1      661       3  978302109\n",
       "2       1      914       3  978301968\n",
       "3       1     3408       4  978300275\n",
       "4       1     2355       5  978824291"
      ]
     },
     "execution_count": 87,
     "metadata": {},
     "output_type": "execute_result"
    }
   ],
   "source": [
    "# Loading ratings data\n",
    "ratings_path =\"./ratings.dat\"\n",
    "ratings = pd.read_csv(ratings_path, delimiter=\"::\", header=None, engine='python', encoding=get_file_encoding(ratings_path))\n",
    "ratings = ratings.rename(columns={0: \"UserID\", 1: \"MovieID\", 2: \"Rating\", 3:\"Timestamp\"}) # Set ratings column names\n",
    "\n",
    "ratings.head()"
   ]
  },
  {
   "cell_type": "code",
   "execution_count": 88,
   "id": "961137de-33e8-4406-8382-557f1917216b",
   "metadata": {},
   "outputs": [
    {
     "data": {
      "text/html": [
       "<div>\n",
       "<style scoped>\n",
       "    .dataframe tbody tr th:only-of-type {\n",
       "        vertical-align: middle;\n",
       "    }\n",
       "\n",
       "    .dataframe tbody tr th {\n",
       "        vertical-align: top;\n",
       "    }\n",
       "\n",
       "    .dataframe thead th {\n",
       "        text-align: right;\n",
       "    }\n",
       "</style>\n",
       "<table border=\"1\" class=\"dataframe\">\n",
       "  <thead>\n",
       "    <tr style=\"text-align: right;\">\n",
       "      <th></th>\n",
       "      <th>MovieID</th>\n",
       "      <th>Title</th>\n",
       "      <th>Genres</th>\n",
       "    </tr>\n",
       "  </thead>\n",
       "  <tbody>\n",
       "    <tr>\n",
       "      <th>0</th>\n",
       "      <td>1</td>\n",
       "      <td>Toy Story (1995)</td>\n",
       "      <td>Animation|Children's|Comedy</td>\n",
       "    </tr>\n",
       "    <tr>\n",
       "      <th>1</th>\n",
       "      <td>2</td>\n",
       "      <td>Jumanji (1995)</td>\n",
       "      <td>Adventure|Children's|Fantasy</td>\n",
       "    </tr>\n",
       "    <tr>\n",
       "      <th>2</th>\n",
       "      <td>3</td>\n",
       "      <td>Grumpier Old Men (1995)</td>\n",
       "      <td>Comedy|Romance</td>\n",
       "    </tr>\n",
       "    <tr>\n",
       "      <th>3</th>\n",
       "      <td>4</td>\n",
       "      <td>Waiting to Exhale (1995)</td>\n",
       "      <td>Comedy|Drama</td>\n",
       "    </tr>\n",
       "    <tr>\n",
       "      <th>4</th>\n",
       "      <td>5</td>\n",
       "      <td>Father of the Bride Part II (1995)</td>\n",
       "      <td>Comedy</td>\n",
       "    </tr>\n",
       "  </tbody>\n",
       "</table>\n",
       "</div>"
      ],
      "text/plain": [
       "   MovieID                               Title                        Genres\n",
       "0        1                    Toy Story (1995)   Animation|Children's|Comedy\n",
       "1        2                      Jumanji (1995)  Adventure|Children's|Fantasy\n",
       "2        3             Grumpier Old Men (1995)                Comedy|Romance\n",
       "3        4            Waiting to Exhale (1995)                  Comedy|Drama\n",
       "4        5  Father of the Bride Part II (1995)                        Comedy"
      ]
     },
     "execution_count": 88,
     "metadata": {},
     "output_type": "execute_result"
    }
   ],
   "source": [
    "# Loading movies data\n",
    "movies_path = \"./movies.dat\"\n",
    "movies = pd.read_csv(movies_path, delimiter=\"::\", header=None, engine='python', encoding= get_file_encoding(movies_path))\n",
    "movies = movies.rename(columns={0: \"MovieID\", 1: \"Title\", 2: \"Genres\"})\n",
    "\n",
    "movies.head()"
   ]
  },
  {
   "cell_type": "code",
   "execution_count": 89,
   "id": "4760af66-ca6c-4ff8-af76-292c7d6ab212",
   "metadata": {},
   "outputs": [
    {
     "data": {
      "text/html": [
       "<div>\n",
       "<style scoped>\n",
       "    .dataframe tbody tr th:only-of-type {\n",
       "        vertical-align: middle;\n",
       "    }\n",
       "\n",
       "    .dataframe tbody tr th {\n",
       "        vertical-align: top;\n",
       "    }\n",
       "\n",
       "    .dataframe thead th {\n",
       "        text-align: right;\n",
       "    }\n",
       "</style>\n",
       "<table border=\"1\" class=\"dataframe\">\n",
       "  <thead>\n",
       "    <tr style=\"text-align: right;\">\n",
       "      <th></th>\n",
       "      <th>UserID</th>\n",
       "      <th>Gender</th>\n",
       "      <th>Age</th>\n",
       "      <th>Occupation</th>\n",
       "      <th>Zip-code</th>\n",
       "    </tr>\n",
       "  </thead>\n",
       "  <tbody>\n",
       "    <tr>\n",
       "      <th>0</th>\n",
       "      <td>1</td>\n",
       "      <td>F</td>\n",
       "      <td>1</td>\n",
       "      <td>10</td>\n",
       "      <td>48067</td>\n",
       "    </tr>\n",
       "    <tr>\n",
       "      <th>1</th>\n",
       "      <td>2</td>\n",
       "      <td>M</td>\n",
       "      <td>56</td>\n",
       "      <td>16</td>\n",
       "      <td>70072</td>\n",
       "    </tr>\n",
       "    <tr>\n",
       "      <th>2</th>\n",
       "      <td>3</td>\n",
       "      <td>M</td>\n",
       "      <td>25</td>\n",
       "      <td>15</td>\n",
       "      <td>55117</td>\n",
       "    </tr>\n",
       "    <tr>\n",
       "      <th>3</th>\n",
       "      <td>4</td>\n",
       "      <td>M</td>\n",
       "      <td>45</td>\n",
       "      <td>7</td>\n",
       "      <td>02460</td>\n",
       "    </tr>\n",
       "    <tr>\n",
       "      <th>4</th>\n",
       "      <td>5</td>\n",
       "      <td>M</td>\n",
       "      <td>25</td>\n",
       "      <td>20</td>\n",
       "      <td>55455</td>\n",
       "    </tr>\n",
       "  </tbody>\n",
       "</table>\n",
       "</div>"
      ],
      "text/plain": [
       "   UserID Gender  Age  Occupation Zip-code\n",
       "0       1      F    1          10    48067\n",
       "1       2      M   56          16    70072\n",
       "2       3      M   25          15    55117\n",
       "3       4      M   45           7    02460\n",
       "4       5      M   25          20    55455"
      ]
     },
     "execution_count": 89,
     "metadata": {},
     "output_type": "execute_result"
    }
   ],
   "source": [
    "# Loading users data\n",
    "users_path = \"./users.dat\"\n",
    "users = pd.read_csv(users_path, delimiter=\"::\", header=None, engine='python', encoding= get_file_encoding(users_path))\n",
    "users = users.rename(columns={0: \"UserID\", 1: \"Gender\", 2: \"Age\", 3: \"Occupation\", 4: \"Zip-code\"})\n",
    "\n",
    "users.head()"
   ]
  },
  {
   "cell_type": "markdown",
   "id": "906125e9-c359-4a65-81ee-ad01fadd1362",
   "metadata": {},
   "source": [
    "## Pre-processing Data"
   ]
  },
  {
   "cell_type": "markdown",
   "id": "5e7c06c8-9a70-41b2-b771-fb138e5a597e",
   "metadata": {},
   "source": [
    "### Preparing Users"
   ]
  },
  {
   "cell_type": "code",
   "execution_count": 90,
   "id": "3acba525-57ed-48a5-9330-f37d90c91e12",
   "metadata": {},
   "outputs": [],
   "source": [
    "# One Hot Encode Gender\n",
    "encoder = OneHotEncoder(sparse_output=False)\n",
    "\n",
    "# Encode genders\n",
    "encoded_gender = encoder.fit_transform(users[['Gender']])\n",
    "encoded_gender_df = pd.DataFrame(encoded_gender, columns = encoder.get_feature_names_out(['Gender']))\n",
    "\n",
    "# Concat new hot encoded columns\n",
    "users = pd.concat([users, encoded_gender_df], axis = 1)\n",
    "\n",
    "# Drop previous gender column\n",
    "users.drop(['Gender'], axis='columns', inplace=True)"
   ]
  },
  {
   "cell_type": "code",
   "execution_count": 91,
   "id": "570014e6-acd1-40f2-b3a4-80520016cd7a",
   "metadata": {},
   "outputs": [],
   "source": [
    "# Label Encode Zip-code\n",
    "le = LabelEncoder()\n",
    "\n",
    "# Update column\n",
    "users['Zip-code'] = le.fit_transform(users['Zip-code'])"
   ]
  },
  {
   "cell_type": "code",
   "execution_count": 92,
   "id": "80b71920-7eda-4b03-ab99-9c03b4b4de27",
   "metadata": {},
   "outputs": [
    {
     "data": {
      "text/html": [
       "<div>\n",
       "<style scoped>\n",
       "    .dataframe tbody tr th:only-of-type {\n",
       "        vertical-align: middle;\n",
       "    }\n",
       "\n",
       "    .dataframe tbody tr th {\n",
       "        vertical-align: top;\n",
       "    }\n",
       "\n",
       "    .dataframe thead th {\n",
       "        text-align: right;\n",
       "    }\n",
       "</style>\n",
       "<table border=\"1\" class=\"dataframe\">\n",
       "  <thead>\n",
       "    <tr style=\"text-align: right;\">\n",
       "      <th></th>\n",
       "      <th>UserID</th>\n",
       "      <th>Age</th>\n",
       "      <th>Occupation</th>\n",
       "      <th>Zip-code</th>\n",
       "      <th>Gender_F</th>\n",
       "      <th>Gender_M</th>\n",
       "    </tr>\n",
       "  </thead>\n",
       "  <tbody>\n",
       "    <tr>\n",
       "      <th>0</th>\n",
       "      <td>1</td>\n",
       "      <td>1</td>\n",
       "      <td>10</td>\n",
       "      <td>1588</td>\n",
       "      <td>1.0</td>\n",
       "      <td>0.0</td>\n",
       "    </tr>\n",
       "    <tr>\n",
       "      <th>1</th>\n",
       "      <td>2</td>\n",
       "      <td>56</td>\n",
       "      <td>16</td>\n",
       "      <td>2248</td>\n",
       "      <td>0.0</td>\n",
       "      <td>1.0</td>\n",
       "    </tr>\n",
       "    <tr>\n",
       "      <th>2</th>\n",
       "      <td>3</td>\n",
       "      <td>25</td>\n",
       "      <td>15</td>\n",
       "      <td>1863</td>\n",
       "      <td>0.0</td>\n",
       "      <td>1.0</td>\n",
       "    </tr>\n",
       "    <tr>\n",
       "      <th>3</th>\n",
       "      <td>4</td>\n",
       "      <td>45</td>\n",
       "      <td>7</td>\n",
       "      <td>140</td>\n",
       "      <td>0.0</td>\n",
       "      <td>1.0</td>\n",
       "    </tr>\n",
       "    <tr>\n",
       "      <th>4</th>\n",
       "      <td>5</td>\n",
       "      <td>25</td>\n",
       "      <td>20</td>\n",
       "      <td>1938</td>\n",
       "      <td>0.0</td>\n",
       "      <td>1.0</td>\n",
       "    </tr>\n",
       "  </tbody>\n",
       "</table>\n",
       "</div>"
      ],
      "text/plain": [
       "   UserID  Age  Occupation  Zip-code  Gender_F  Gender_M\n",
       "0       1    1          10      1588       1.0       0.0\n",
       "1       2   56          16      2248       0.0       1.0\n",
       "2       3   25          15      1863       0.0       1.0\n",
       "3       4   45           7       140       0.0       1.0\n",
       "4       5   25          20      1938       0.0       1.0"
      ]
     },
     "execution_count": 92,
     "metadata": {},
     "output_type": "execute_result"
    }
   ],
   "source": [
    "users.head()"
   ]
  },
  {
   "cell_type": "code",
   "execution_count": 93,
   "id": "06b4da70-744f-4eae-8b95-de80d379c8ce",
   "metadata": {},
   "outputs": [
    {
     "name": "stdout",
     "output_type": "stream",
     "text": [
      "<class 'pandas.core.frame.DataFrame'>\n",
      "RangeIndex: 6040 entries, 0 to 6039\n",
      "Data columns (total 6 columns):\n",
      " #   Column      Non-Null Count  Dtype  \n",
      "---  ------      --------------  -----  \n",
      " 0   UserID      6040 non-null   int64  \n",
      " 1   Age         6040 non-null   int64  \n",
      " 2   Occupation  6040 non-null   int64  \n",
      " 3   Zip-code    6040 non-null   int32  \n",
      " 4   Gender_F    6040 non-null   float64\n",
      " 5   Gender_M    6040 non-null   float64\n",
      "dtypes: float64(2), int32(1), int64(3)\n",
      "memory usage: 259.7 KB\n"
     ]
    }
   ],
   "source": [
    "users.info()"
   ]
  },
  {
   "cell_type": "markdown",
   "id": "fffd0ef9",
   "metadata": {},
   "source": [
    "# Naive Approaches"
   ]
  },
  {
   "cell_type": "markdown",
   "id": "176476de",
   "metadata": {},
   "source": [
    "To begin with the first recommender systems algorithm, we implement four functions for each naive recommender approach, namely the Global Average, the Movie Average, the User Average, and the Linear combination (including the $\\gamma$ parameter). The first one, the Global Average approach, involves recommending the global average rating to all users. When movie or user average ratings were unavailable for the Movie Average or User Average approach, this approach was utilized as a fallback value. Proceeding to these approaches, recommendations were based on the average rating received by a movie or given by a user, respectively. Finally, the last approach we implemented was the Linear combination of the three averages. In this approach, predictions are a combination of user and movie average ratings, with the $\\gamma$ term included. In that case, we used the Movie and User Average Ratings in the Linear Combination function. Thus, the fall-back value used for these approaches was used indirectly for the fourth one when user or movie average ratings were unavailable. Hence, in the last approach, the global average rating was implicitly used again as the fall-back value."
   ]
  },
  {
   "cell_type": "markdown",
   "id": "2b663c3e",
   "metadata": {},
   "source": [
    "### Import Libraries"
   ]
  },
  {
   "cell_type": "code",
   "execution_count": 94,
   "id": "fb5a5a2b",
   "metadata": {},
   "outputs": [],
   "source": [
    "from sklearn.model_selection import KFold\n",
    "from sklearn.metrics import mean_squared_error, mean_absolute_error"
   ]
  },
  {
   "cell_type": "markdown",
   "id": "30005d8f",
   "metadata": {},
   "source": [
    "#### 1. Global Average Rating:\n",
    "\n",
    "$$ {R}_{global} (User, Movie) = mean(\\text{all ratings})$$"
   ]
  },
  {
   "cell_type": "code",
   "execution_count": 95,
   "id": "559be5f3",
   "metadata": {},
   "outputs": [],
   "source": [
    "def global_average(train, test, is_train=False):\n",
    "    if is_train:\n",
    "        return [train['Rating'].mean()] * len(train)\n",
    "    else:\n",
    "        return [train['Rating'].mean()] * len(test)"
   ]
  },
  {
   "cell_type": "markdown",
   "id": "6567c852",
   "metadata": {},
   "source": [
    "#### 2. Movie Average: \n",
    "\n",
    "$$ {R}_{movie} (User, Movie) = mean(\\text{all ratings for movie})$$"
   ]
  },
  {
   "cell_type": "code",
   "execution_count": 96,
   "id": "0054cc70",
   "metadata": {},
   "outputs": [],
   "source": [
    "def movie_average(train, test, is_train=False):\n",
    "    if is_train:\n",
    "        movie_avg_train = train.groupby('MovieID')['Rating'].mean()\n",
    "        return movie_avg_train[train['MovieID']].to_numpy()    # A NumPy ndarray representing the values in this Series\n",
    "\n",
    "    else:\n",
    "        movie_avg_predictions = test['MovieID'].map(train.groupby('MovieID')['Rating'].mean())  # movie average predictions for a test set based on \n",
    "        movie_avg_predictions.fillna(train['Rating'].mean(), inplace=True)                       # the movie average ratings in the training set             \n",
    "        return movie_avg_predictions"
   ]
  },
  {
   "cell_type": "markdown",
   "id": "b3dcfbb6",
   "metadata": {},
   "source": [
    "#### 3. User Average:\n",
    "\n",
    "$$ {R}_{user} (User, Movie) = mean(\\text{all ratings for User})$$"
   ]
  },
  {
   "cell_type": "code",
   "execution_count": 97,
   "id": "93ae54e5",
   "metadata": {},
   "outputs": [],
   "source": [
    "def user_average(train, test, is_train=False):\n",
    "    if is_train:\n",
    "        user_avg_train = train.groupby('UserID')['Rating'].mean()\n",
    "        return user_avg_train[train['UserID']].to_numpy()    # A NumPy ndarray representing the values in this Series\n",
    "\n",
    "    else:\n",
    "        user_avg_predictions = test['UserID'].map(train.groupby('UserID')['Rating'].mean()) # user average predictions for a test set based on \n",
    "        user_avg_predictions.fillna(train['Rating'].mean(), inplace=True)                       # the user average ratings in the training set\n",
    "        return user_avg_predictions\n"
   ]
  },
  {
   "cell_type": "markdown",
   "id": "75ae6277",
   "metadata": {},
   "source": [
    "#### 4. Linear Combination of the three averages:\n",
    "\n",
    "$$ {R}_{user-movie} (User, Movie) = \\alpha * {R}_{user} (User, Movie) + \\beta * {R}_{movie} (User, Movie) + \\gamma$$"
   ]
  },
  {
   "cell_type": "code",
   "execution_count": 98,
   "id": "95ad6708",
   "metadata": {},
   "outputs": [],
   "source": [
    "def linear_combination(train, test, is_train=False):\n",
    "    user_avg = train.groupby('UserID')['Rating'].mean()\n",
    "    movie_avg = train.groupby('MovieID')['Rating'].mean()\n",
    "\n",
    "    A = np.vstack([user_avg[train['UserID']], movie_avg[train['MovieID']], np.ones(len(train))]).T\n",
    "    b = train['Rating']\n",
    "\n",
    "    alpha, beta, gamma = np.linalg.lstsq(A, b, rcond=None)[0]     # https://numpy.org/doc/stable/reference/generated/numpy.linalg.lstsq.html\n",
    "\n",
    "    if is_train: \n",
    "        prediction = alpha * user_average(train, test, is_train=True) + beta * movie_average(train, test, is_train=True) + gamma\n",
    "    else:\n",
    "        prediction = alpha * user_average(train, test) + beta * movie_average(train, test) + gamma\n",
    "\n",
    "    prediction = np.clip(prediction, 1, 5)\n",
    "\n",
    "    return prediction\n",
    "    \n"
   ]
  },
  {
   "cell_type": "markdown",
   "id": "44e35e6d",
   "metadata": {},
   "source": [
    "## 5-fold Cross-Validation \\& Accuracy estimations"
   ]
  },
  {
   "cell_type": "code",
   "execution_count": 99,
   "id": "53736f98",
   "metadata": {},
   "outputs": [],
   "source": [
    "kf = KFold(n_splits=5, shuffle=True, random_state=42)   # 42: random seed set at the beginning\n",
    "\n",
    "# training set\n",
    "rmse_global_train = []\n",
    "mae_global_train = []\n",
    "\n",
    "rmse_user_train = []\n",
    "mae_user_train = []\n",
    "\n",
    "rmse_movie_train = []\n",
    "mae_movie_train = []\n",
    "\n",
    "rmse_combination_train = []\n",
    "mae_combination_train = []\n",
    "\n",
    "# test set\n",
    "rmse_global_test = []\n",
    "mae_global_test = []\n",
    "\n",
    "rmse_user_test = []\n",
    "mae_user_test = []\n",
    "\n",
    "rmse_movie_test = []\n",
    "mae_movie_test = []\n",
    "\n",
    "rmse_combination_test = []\n",
    "mae_combination_test = []\n",
    "\n",
    "for train_index, test_index in kf.split(ratings):\n",
    "    train_data, test_data = ratings.iloc[train_index], ratings.iloc[test_index]\n",
    "\n",
    "    # Compute RMSE and MAE over training set\n",
    "    rmse_global_train.append(np.sqrt(mean_squared_error(train_data['Rating'], global_average(train_data, test_data, is_train=True))))\n",
    "    mae_global_train.append(mean_absolute_error(train_data['Rating'], global_average(train_data, test_data, is_train=True)))\n",
    "\n",
    "    rmse_user_train.append(np.sqrt(mean_squared_error(train_data['Rating'], user_average(train_data, test_data, is_train=True))))\n",
    "    mae_user_train.append(mean_absolute_error(train_data['Rating'], user_average(train_data, test_data, is_train=True)))\n",
    "\n",
    "    rmse_movie_train.append(np.sqrt(mean_squared_error(train_data['Rating'], movie_average(train_data, test_data, is_train=True))))\n",
    "    mae_movie_train.append(mean_absolute_error(train_data['Rating'], movie_average(train_data, test_data, is_train=True)))\n",
    "\n",
    "    rmse_combination_train.append(np.sqrt(mean_squared_error(train_data['Rating'], linear_combination(train_data, test_data, is_train=True))))\n",
    "    mae_combination_train.append(mean_absolute_error(train_data['Rating'], linear_combination(train_data, test_data, is_train=True)))\n",
    "\n",
    "    # Compute RMSE and MAE test set\n",
    "    rmse_global_test.append(np.sqrt(mean_squared_error(test_data['Rating'], global_average(train_data, test_data))))\n",
    "    mae_global_test.append(mean_absolute_error(test_data['Rating'], global_average(train_data, test_data)))\n",
    "\n",
    "    rmse_user_test.append(np.sqrt(mean_squared_error(test_data['Rating'], user_average(train_data, test_data))))\n",
    "    mae_user_test.append(mean_absolute_error(test_data['Rating'], user_average(train_data, test_data)))\n",
    "\n",
    "    rmse_movie_test.append(np.sqrt(mean_squared_error(test_data['Rating'], movie_average(train_data, test_data))))\n",
    "    mae_movie_test.append(mean_absolute_error(test_data['Rating'], movie_average(train_data, test_data)))\n",
    "\n",
    "    rmse_combination_test.append(np.sqrt(mean_squared_error(test_data['Rating'], linear_combination(train_data, test_data))))\n",
    "    mae_combination_test.append(mean_absolute_error(test_data['Rating'], linear_combination(train_data, test_data)))\n"
   ]
  },
  {
   "cell_type": "code",
   "execution_count": 100,
   "id": "ad525546",
   "metadata": {},
   "outputs": [],
   "source": [
    "d_train = {\"Metric\": [\"RMSE\", \"MAE\"],\n",
    "          \"Global Average\": [np.mean(rmse_global_train), np.mean(mae_global_train)],\n",
    "          \"User Average\": [np.mean(rmse_user_train), np.mean(mae_user_train)],\n",
    "          \"Movie Average\": [np.mean(rmse_movie_train), np.mean(mae_movie_train)],\n",
    "          \"Linear Combination\": [np.mean(rmse_combination_train),np.mean(mae_combination_train)]}\n",
    "df_train = pd.DataFrame(data=d_train)\n",
    "\n",
    "d_test = {\"Metric\": [\"RMSE\", \"MAE\"],\n",
    "          \"Global Average\": [np.mean(rmse_global_test), np.mean(mae_global_test)],\n",
    "          \"User Average\": [np.mean(rmse_user_test), np.mean(mae_user_test)],\n",
    "          \"Movie Average\": [np.mean(rmse_movie_test), np.mean(mae_movie_test)],\n",
    "          \"Linear Combination\": [np.mean(rmse_combination_test),np.mean(mae_combination_test)]}\n",
    "df_test = pd.DataFrame(data=d_test)"
   ]
  },
  {
   "cell_type": "markdown",
   "id": "2d71f9cd",
   "metadata": {},
   "source": [
    "#### RMSE and MAE table over training set:"
   ]
  },
  {
   "cell_type": "code",
   "execution_count": 101,
   "id": "c03066fd",
   "metadata": {},
   "outputs": [
    {
     "data": {
      "text/html": [
       "<div>\n",
       "<style scoped>\n",
       "    .dataframe tbody tr th:only-of-type {\n",
       "        vertical-align: middle;\n",
       "    }\n",
       "\n",
       "    .dataframe tbody tr th {\n",
       "        vertical-align: top;\n",
       "    }\n",
       "\n",
       "    .dataframe thead th {\n",
       "        text-align: right;\n",
       "    }\n",
       "</style>\n",
       "<table border=\"1\" class=\"dataframe\">\n",
       "  <thead>\n",
       "    <tr style=\"text-align: right;\">\n",
       "      <th></th>\n",
       "      <th>Metric</th>\n",
       "      <th>Global Average</th>\n",
       "      <th>User Average</th>\n",
       "      <th>Movie Average</th>\n",
       "      <th>Linear Combination</th>\n",
       "    </tr>\n",
       "  </thead>\n",
       "  <tbody>\n",
       "    <tr>\n",
       "      <th>0</th>\n",
       "      <td>RMSE</td>\n",
       "      <td>1.117101</td>\n",
       "      <td>1.027673</td>\n",
       "      <td>0.974228</td>\n",
       "      <td>0.914556</td>\n",
       "    </tr>\n",
       "    <tr>\n",
       "      <th>1</th>\n",
       "      <td>MAE</td>\n",
       "      <td>0.933861</td>\n",
       "      <td>0.822719</td>\n",
       "      <td>0.778336</td>\n",
       "      <td>0.724810</td>\n",
       "    </tr>\n",
       "  </tbody>\n",
       "</table>\n",
       "</div>"
      ],
      "text/plain": [
       "  Metric  Global Average  User Average  Movie Average  Linear Combination\n",
       "0   RMSE        1.117101      1.027673       0.974228            0.914556\n",
       "1    MAE        0.933861      0.822719       0.778336            0.724810"
      ]
     },
     "execution_count": 101,
     "metadata": {},
     "output_type": "execute_result"
    }
   ],
   "source": [
    "df_train"
   ]
  },
  {
   "cell_type": "markdown",
   "id": "3402ca66",
   "metadata": {},
   "source": []
  },
  {
   "cell_type": "markdown",
   "id": "bb74ec58",
   "metadata": {},
   "source": [
    "#### RMSE and MAE table over test set:"
   ]
  },
  {
   "cell_type": "code",
   "execution_count": 102,
   "id": "9c379921",
   "metadata": {},
   "outputs": [
    {
     "data": {
      "text/html": [
       "<div>\n",
       "<style scoped>\n",
       "    .dataframe tbody tr th:only-of-type {\n",
       "        vertical-align: middle;\n",
       "    }\n",
       "\n",
       "    .dataframe tbody tr th {\n",
       "        vertical-align: top;\n",
       "    }\n",
       "\n",
       "    .dataframe thead th {\n",
       "        text-align: right;\n",
       "    }\n",
       "</style>\n",
       "<table border=\"1\" class=\"dataframe\">\n",
       "  <thead>\n",
       "    <tr style=\"text-align: right;\">\n",
       "      <th></th>\n",
       "      <th>Metric</th>\n",
       "      <th>Global Average</th>\n",
       "      <th>User Average</th>\n",
       "      <th>Movie Average</th>\n",
       "      <th>Linear Combination</th>\n",
       "    </tr>\n",
       "  </thead>\n",
       "  <tbody>\n",
       "    <tr>\n",
       "      <th>0</th>\n",
       "      <td>RMSE</td>\n",
       "      <td>1.117101</td>\n",
       "      <td>1.03548</td>\n",
       "      <td>0.979367</td>\n",
       "      <td>0.924256</td>\n",
       "    </tr>\n",
       "    <tr>\n",
       "      <th>1</th>\n",
       "      <td>MAE</td>\n",
       "      <td>0.933862</td>\n",
       "      <td>0.82895</td>\n",
       "      <td>0.782284</td>\n",
       "      <td>0.732430</td>\n",
       "    </tr>\n",
       "  </tbody>\n",
       "</table>\n",
       "</div>"
      ],
      "text/plain": [
       "  Metric  Global Average  User Average  Movie Average  Linear Combination\n",
       "0   RMSE        1.117101       1.03548       0.979367            0.924256\n",
       "1    MAE        0.933862       0.82895       0.782284            0.732430"
      ]
     },
     "execution_count": 102,
     "metadata": {},
     "output_type": "execute_result"
    }
   ],
   "source": [
    "df_test"
   ]
  },
  {
   "cell_type": "markdown",
   "id": "91093190",
   "metadata": {},
   "source": []
  }
 ],
 "metadata": {
  "kernelspec": {
   "display_name": "Python 3 (ipykernel)",
   "language": "python",
   "name": "python3"
  },
  "language_info": {
   "codemirror_mode": {
    "name": "ipython",
    "version": 3
   },
   "file_extension": ".py",
   "mimetype": "text/x-python",
   "name": "python",
   "nbconvert_exporter": "python",
   "pygments_lexer": "ipython3",
   "version": "3.11.1"
  },
  "toc-autonumbering": false,
  "toc-showtags": false
 },
 "nbformat": 4,
 "nbformat_minor": 5
}
